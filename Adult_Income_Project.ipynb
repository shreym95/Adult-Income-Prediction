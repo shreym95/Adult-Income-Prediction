{
 "cells": [
  {
   "cell_type": "code",
   "execution_count": 1,
   "id": "04306a8a",
   "metadata": {},
   "outputs": [],
   "source": [
    "from pyspark.sql import SparkSession\n",
    "from pyspark.sql.functions import regexp_extract, col, concat, count, when, lit, desc, countDistinct\n",
    "import re"
   ]
  },
  {
   "cell_type": "code",
   "execution_count": 45,
   "id": "547aff61",
   "metadata": {},
   "outputs": [],
   "source": [
    "spark = SparkSession.builder \\\n",
    "                    .appName('Adult Income Range Prediction') \\\n",
    "                    .getOrCreate()"
   ]
  },
  {
   "cell_type": "code",
   "execution_count": 44,
   "id": "e0559147",
   "metadata": {},
   "outputs": [],
   "source": [
    "spark.stop()"
   ]
  },
  {
   "cell_type": "code",
   "execution_count": 3,
   "id": "cb472aac",
   "metadata": {},
   "outputs": [
    {
     "data": {
      "text/html": [
       "\n",
       "            <div>\n",
       "                <p><b>SparkSession - in-memory</b></p>\n",
       "                \n",
       "        <div>\n",
       "            <p><b>SparkContext</b></p>\n",
       "\n",
       "            <p><a href=\"http://g01.itversity.com:4040\">Spark UI</a></p>\n",
       "\n",
       "            <dl>\n",
       "              <dt>Version</dt>\n",
       "                <dd><code>v3.0.1</code></dd>\n",
       "              <dt>Master</dt>\n",
       "                <dd><code>yarn</code></dd>\n",
       "              <dt>AppName</dt>\n",
       "                <dd><code>Adult Income Range Prediction</code></dd>\n",
       "            </dl>\n",
       "        </div>\n",
       "        \n",
       "            </div>\n",
       "        "
      ],
      "text/plain": [
       "<pyspark.sql.session.SparkSession at 0x7fe1c9c1d128>"
      ]
     },
     "execution_count": 3,
     "metadata": {},
     "output_type": "execute_result"
    }
   ],
   "source": [
    "spark"
   ]
  },
  {
   "cell_type": "markdown",
   "id": "201584dc",
   "metadata": {},
   "source": [
    "### 1. Loading the data in Spark Dataframe"
   ]
  },
  {
   "cell_type": "code",
   "execution_count": 46,
   "id": "c5975a8f",
   "metadata": {},
   "outputs": [],
   "source": [
    "adult_df = spark.read.format(\"csv\").option(\"header\", True).option(\"inferSchema\", True).load(\"adult_data.csv\")"
   ]
  },
  {
   "cell_type": "code",
   "execution_count": 47,
   "id": "fb6c28c9",
   "metadata": {},
   "outputs": [
    {
     "name": "stdout",
     "output_type": "stream",
     "text": [
      "+---+---+---------+------+------------+---------------+------------------+-----------------+------------+-----+------+------------+------------+--------------+--------------+------+\n",
      "|  x|age|workclass|fnlwgt|   education|educational-num|    marital-status|       occupation|relationship| race|gender|capital-gain|capital-loss|hours-per-week|native-country|income|\n",
      "+---+---+---------+------+------------+---------------+------------------+-----------------+------------+-----+------+------------+------------+--------------+--------------+------+\n",
      "|  1| 25|  Private|226802|        11th|              7|     Never-married|Machine-op-inspct|   Own-child|Black|  Male|           0|           0|            40| United-States| <=50K|\n",
      "|  2| 38|  Private| 89814|     HS-grad|              9|Married-civ-spouse|  Farming-fishing|     Husband|White|  Male|           0|           0|            50| United-States| <=50K|\n",
      "|  3| 28|Local-gov|336951|  Assoc-acdm|             12|Married-civ-spouse|  Protective-serv|     Husband|White|  Male|           0|           0|            40| United-States|  >50K|\n",
      "|  4| 44|  Private|160323|Some-college|             10|Married-civ-spouse|Machine-op-inspct|     Husband|Black|  Male|        7688|           0|            40| United-States|  >50K|\n",
      "|  5| 18|        ?|103497|Some-college|             10|     Never-married|                ?|   Own-child|White|Female|           0|           0|            30| United-States| <=50K|\n",
      "+---+---+---------+------+------------+---------------+------------------+-----------------+------------+-----+------+------------+------------+--------------+--------------+------+\n",
      "only showing top 5 rows\n",
      "\n"
     ]
    }
   ],
   "source": [
    "adult_df.show(5)"
   ]
  },
  {
   "cell_type": "code",
   "execution_count": 48,
   "id": "8db8a2c3",
   "metadata": {},
   "outputs": [
    {
     "name": "stdout",
     "output_type": "stream",
     "text": [
      "root\n",
      " |-- x: integer (nullable = true)\n",
      " |-- age: integer (nullable = true)\n",
      " |-- workclass: string (nullable = true)\n",
      " |-- fnlwgt: integer (nullable = true)\n",
      " |-- education: string (nullable = true)\n",
      " |-- educational-num: integer (nullable = true)\n",
      " |-- marital-status: string (nullable = true)\n",
      " |-- occupation: string (nullable = true)\n",
      " |-- relationship: string (nullable = true)\n",
      " |-- race: string (nullable = true)\n",
      " |-- gender: string (nullable = true)\n",
      " |-- capital-gain: integer (nullable = true)\n",
      " |-- capital-loss: integer (nullable = true)\n",
      " |-- hours-per-week: integer (nullable = true)\n",
      " |-- native-country: string (nullable = true)\n",
      " |-- income: string (nullable = true)\n",
      "\n"
     ]
    }
   ],
   "source": [
    "adult_df.printSchema()"
   ]
  },
  {
   "cell_type": "markdown",
   "id": "d05a04de",
   "metadata": {},
   "source": [
    "### 2. Converting relevant continuous columns to appropriate format\n",
    "- Not converting x, age, educational-num, hours-per-week as they are small numbers so int should be fine\n",
    "- Converting fnlwgt, capital-gain, capital-loss to double "
   ]
  },
  {
   "cell_type": "code",
   "execution_count": 49,
   "id": "a189581f",
   "metadata": {},
   "outputs": [
    {
     "name": "stdout",
     "output_type": "stream",
     "text": [
      "root\n",
      " |-- x: integer (nullable = true)\n",
      " |-- age: integer (nullable = true)\n",
      " |-- workclass: string (nullable = true)\n",
      " |-- fnlwgt: double (nullable = true)\n",
      " |-- education: string (nullable = true)\n",
      " |-- educational-num: integer (nullable = true)\n",
      " |-- marital-status: string (nullable = true)\n",
      " |-- occupation: string (nullable = true)\n",
      " |-- relationship: string (nullable = true)\n",
      " |-- race: string (nullable = true)\n",
      " |-- gender: string (nullable = true)\n",
      " |-- capital-gain: double (nullable = true)\n",
      " |-- capital-loss: double (nullable = true)\n",
      " |-- hours-per-week: integer (nullable = true)\n",
      " |-- native-country: string (nullable = true)\n",
      " |-- income: string (nullable = true)\n",
      "\n"
     ]
    }
   ],
   "source": [
    "columns_to_cast = ['fnlwgt', 'capital-gain', 'capital-loss']\n",
    "cast_expr = [\n",
    "    col(c).cast(\"double\") if c in columns_to_cast else col(c) for c in adult_df.columns\n",
    "]\n",
    "adult_df_casted = adult_df.select(*cast_expr)\n",
    "adult_df_casted.printSchema()"
   ]
  },
  {
   "cell_type": "code",
   "execution_count": 50,
   "id": "f6cb41b0",
   "metadata": {},
   "outputs": [
    {
     "name": "stdout",
     "output_type": "stream",
     "text": [
      "+---+---+---------+--------+------------+---------------+------------------+-----------------+------------+-----+------+------------+------------+--------------+--------------+------+\n",
      "|  x|age|workclass|  fnlwgt|   education|educational-num|    marital-status|       occupation|relationship| race|gender|capital-gain|capital-loss|hours-per-week|native-country|income|\n",
      "+---+---+---------+--------+------------+---------------+------------------+-----------------+------------+-----+------+------------+------------+--------------+--------------+------+\n",
      "|  1| 25|  Private|226802.0|        11th|              7|     Never-married|Machine-op-inspct|   Own-child|Black|  Male|         0.0|         0.0|            40| United-States| <=50K|\n",
      "|  2| 38|  Private| 89814.0|     HS-grad|              9|Married-civ-spouse|  Farming-fishing|     Husband|White|  Male|         0.0|         0.0|            50| United-States| <=50K|\n",
      "|  3| 28|Local-gov|336951.0|  Assoc-acdm|             12|Married-civ-spouse|  Protective-serv|     Husband|White|  Male|         0.0|         0.0|            40| United-States|  >50K|\n",
      "|  4| 44|  Private|160323.0|Some-college|             10|Married-civ-spouse|Machine-op-inspct|     Husband|Black|  Male|      7688.0|         0.0|            40| United-States|  >50K|\n",
      "|  5| 18|        ?|103497.0|Some-college|             10|     Never-married|                ?|   Own-child|White|Female|         0.0|         0.0|            30| United-States| <=50K|\n",
      "+---+---+---------+--------+------------+---------------+------------------+-----------------+------------+-----+------+------------+------------+--------------+--------------+------+\n",
      "only showing top 5 rows\n",
      "\n"
     ]
    }
   ],
   "source": [
    "adult_df_casted.show(5)"
   ]
  },
  {
   "cell_type": "markdown",
   "id": "e691ac0d",
   "metadata": {},
   "source": [
    "### 3. Counting number of rows by education level"
   ]
  },
  {
   "cell_type": "code",
   "execution_count": 51,
   "id": "4f2ced3c",
   "metadata": {},
   "outputs": [
    {
     "name": "stdout",
     "output_type": "stream",
     "text": [
      "+------------+-----+\n",
      "|   education|count|\n",
      "+------------+-----+\n",
      "|     HS-grad|15784|\n",
      "|Some-college|10878|\n",
      "|   Bachelors| 8025|\n",
      "|     Masters| 2657|\n",
      "|   Assoc-voc| 2061|\n",
      "|        11th| 1812|\n",
      "|  Assoc-acdm| 1601|\n",
      "|        10th| 1389|\n",
      "|     7th-8th|  955|\n",
      "| Prof-school|  834|\n",
      "|         9th|  756|\n",
      "|        12th|  657|\n",
      "|   Doctorate|  594|\n",
      "|     5th-6th|  509|\n",
      "|     1st-4th|  247|\n",
      "|   Preschool|   83|\n",
      "+------------+-----+\n",
      "\n"
     ]
    }
   ],
   "source": [
    "adult_df_casted.groupBy(\"education\").count().orderBy('count', ascending=False).show()"
   ]
  },
  {
   "cell_type": "markdown",
   "id": "9fdf9883",
   "metadata": {},
   "source": [
    "### 4. Summary stats of the data"
   ]
  },
  {
   "cell_type": "code",
   "execution_count": 52,
   "id": "a4de243a",
   "metadata": {},
   "outputs": [
    {
     "data": {
      "text/html": [
       "<div>\n",
       "<style scoped>\n",
       "    .dataframe tbody tr th:only-of-type {\n",
       "        vertical-align: middle;\n",
       "    }\n",
       "\n",
       "    .dataframe tbody tr th {\n",
       "        vertical-align: top;\n",
       "    }\n",
       "\n",
       "    .dataframe thead th {\n",
       "        text-align: right;\n",
       "    }\n",
       "</style>\n",
       "<table border=\"1\" class=\"dataframe\">\n",
       "  <thead>\n",
       "    <tr style=\"text-align: right;\">\n",
       "      <th></th>\n",
       "      <th>0</th>\n",
       "      <th>1</th>\n",
       "      <th>2</th>\n",
       "      <th>3</th>\n",
       "      <th>4</th>\n",
       "    </tr>\n",
       "  </thead>\n",
       "  <tbody>\n",
       "    <tr>\n",
       "      <th>summary</th>\n",
       "      <td>count</td>\n",
       "      <td>mean</td>\n",
       "      <td>stddev</td>\n",
       "      <td>min</td>\n",
       "      <td>max</td>\n",
       "    </tr>\n",
       "    <tr>\n",
       "      <th>x</th>\n",
       "      <td>48842</td>\n",
       "      <td>24421.5</td>\n",
       "      <td>14099.615260708357</td>\n",
       "      <td>1</td>\n",
       "      <td>48842</td>\n",
       "    </tr>\n",
       "    <tr>\n",
       "      <th>age</th>\n",
       "      <td>48842</td>\n",
       "      <td>38.64358543876172</td>\n",
       "      <td>13.710509934443502</td>\n",
       "      <td>17</td>\n",
       "      <td>90</td>\n",
       "    </tr>\n",
       "    <tr>\n",
       "      <th>workclass</th>\n",
       "      <td>48842</td>\n",
       "      <td>None</td>\n",
       "      <td>None</td>\n",
       "      <td>?</td>\n",
       "      <td>Without-pay</td>\n",
       "    </tr>\n",
       "    <tr>\n",
       "      <th>fnlwgt</th>\n",
       "      <td>48842</td>\n",
       "      <td>189664.13459727284</td>\n",
       "      <td>105604.02542315757</td>\n",
       "      <td>12285.0</td>\n",
       "      <td>1490400.0</td>\n",
       "    </tr>\n",
       "    <tr>\n",
       "      <th>education</th>\n",
       "      <td>48842</td>\n",
       "      <td>None</td>\n",
       "      <td>None</td>\n",
       "      <td>10th</td>\n",
       "      <td>Some-college</td>\n",
       "    </tr>\n",
       "    <tr>\n",
       "      <th>educational-num</th>\n",
       "      <td>48842</td>\n",
       "      <td>10.078088530363212</td>\n",
       "      <td>2.570972755592252</td>\n",
       "      <td>1</td>\n",
       "      <td>16</td>\n",
       "    </tr>\n",
       "    <tr>\n",
       "      <th>marital-status</th>\n",
       "      <td>48842</td>\n",
       "      <td>None</td>\n",
       "      <td>None</td>\n",
       "      <td>Divorced</td>\n",
       "      <td>Widowed</td>\n",
       "    </tr>\n",
       "    <tr>\n",
       "      <th>occupation</th>\n",
       "      <td>48842</td>\n",
       "      <td>None</td>\n",
       "      <td>None</td>\n",
       "      <td>?</td>\n",
       "      <td>Transport-moving</td>\n",
       "    </tr>\n",
       "    <tr>\n",
       "      <th>relationship</th>\n",
       "      <td>48842</td>\n",
       "      <td>None</td>\n",
       "      <td>None</td>\n",
       "      <td>Husband</td>\n",
       "      <td>Wife</td>\n",
       "    </tr>\n",
       "    <tr>\n",
       "      <th>race</th>\n",
       "      <td>48842</td>\n",
       "      <td>None</td>\n",
       "      <td>None</td>\n",
       "      <td>Amer-Indian-Eskimo</td>\n",
       "      <td>White</td>\n",
       "    </tr>\n",
       "    <tr>\n",
       "      <th>gender</th>\n",
       "      <td>48842</td>\n",
       "      <td>None</td>\n",
       "      <td>None</td>\n",
       "      <td>Female</td>\n",
       "      <td>Male</td>\n",
       "    </tr>\n",
       "    <tr>\n",
       "      <th>capital-gain</th>\n",
       "      <td>48842</td>\n",
       "      <td>1079.0676262233324</td>\n",
       "      <td>7452.019057655413</td>\n",
       "      <td>0.0</td>\n",
       "      <td>99999.0</td>\n",
       "    </tr>\n",
       "    <tr>\n",
       "      <th>capital-loss</th>\n",
       "      <td>48842</td>\n",
       "      <td>87.50231358257237</td>\n",
       "      <td>403.0045521243591</td>\n",
       "      <td>0.0</td>\n",
       "      <td>4356.0</td>\n",
       "    </tr>\n",
       "    <tr>\n",
       "      <th>hours-per-week</th>\n",
       "      <td>48842</td>\n",
       "      <td>40.422382375824085</td>\n",
       "      <td>12.391444024252289</td>\n",
       "      <td>1</td>\n",
       "      <td>99</td>\n",
       "    </tr>\n",
       "    <tr>\n",
       "      <th>native-country</th>\n",
       "      <td>48842</td>\n",
       "      <td>None</td>\n",
       "      <td>None</td>\n",
       "      <td>?</td>\n",
       "      <td>Yugoslavia</td>\n",
       "    </tr>\n",
       "    <tr>\n",
       "      <th>income</th>\n",
       "      <td>48842</td>\n",
       "      <td>None</td>\n",
       "      <td>None</td>\n",
       "      <td>&lt;=50K</td>\n",
       "      <td>&gt;50K</td>\n",
       "    </tr>\n",
       "  </tbody>\n",
       "</table>\n",
       "</div>"
      ],
      "text/plain": [
       "                     0                   1                   2  \\\n",
       "summary          count                mean              stddev   \n",
       "x                48842             24421.5  14099.615260708357   \n",
       "age              48842   38.64358543876172  13.710509934443502   \n",
       "workclass        48842                None                None   \n",
       "fnlwgt           48842  189664.13459727284  105604.02542315757   \n",
       "education        48842                None                None   \n",
       "educational-num  48842  10.078088530363212   2.570972755592252   \n",
       "marital-status   48842                None                None   \n",
       "occupation       48842                None                None   \n",
       "relationship     48842                None                None   \n",
       "race             48842                None                None   \n",
       "gender           48842                None                None   \n",
       "capital-gain     48842  1079.0676262233324   7452.019057655413   \n",
       "capital-loss     48842   87.50231358257237   403.0045521243591   \n",
       "hours-per-week   48842  40.422382375824085  12.391444024252289   \n",
       "native-country   48842                None                None   \n",
       "income           48842                None                None   \n",
       "\n",
       "                                  3                 4  \n",
       "summary                         min               max  \n",
       "x                                 1             48842  \n",
       "age                              17                90  \n",
       "workclass                         ?       Without-pay  \n",
       "fnlwgt                      12285.0         1490400.0  \n",
       "education                      10th      Some-college  \n",
       "educational-num                   1                16  \n",
       "marital-status             Divorced           Widowed  \n",
       "occupation                        ?  Transport-moving  \n",
       "relationship                Husband              Wife  \n",
       "race             Amer-Indian-Eskimo             White  \n",
       "gender                       Female              Male  \n",
       "capital-gain                    0.0           99999.0  \n",
       "capital-loss                    0.0            4356.0  \n",
       "hours-per-week                    1                99  \n",
       "native-country                    ?        Yugoslavia  \n",
       "income                        <=50K              >50K  "
      ]
     },
     "execution_count": 52,
     "metadata": {},
     "output_type": "execute_result"
    }
   ],
   "source": [
    "adult_df_casted.describe().toPandas().transpose()"
   ]
  },
  {
   "cell_type": "markdown",
   "id": "37183b00",
   "metadata": {},
   "source": [
    "### 5. Crosstab of the data for Education vs Income range "
   ]
  },
  {
   "cell_type": "code",
   "execution_count": 53,
   "id": "5a9a6a68",
   "metadata": {},
   "outputs": [
    {
     "data": {
      "text/html": [
       "<table border='1'>\n",
       "<tr><th>education_income</th><th>&lt;=50K</th><th>&gt;50K</th></tr>\n",
       "<tr><td>Some-college</td><td>8815</td><td>2063</td></tr>\n",
       "<tr><td>10th</td><td>1302</td><td>87</td></tr>\n",
       "<tr><td>1st-4th</td><td>239</td><td>8</td></tr>\n",
       "<tr><td>Assoc-voc</td><td>1539</td><td>522</td></tr>\n",
       "<tr><td>Preschool</td><td>82</td><td>1</td></tr>\n",
       "<tr><td>9th</td><td>715</td><td>41</td></tr>\n",
       "<tr><td>HS-grad</td><td>13281</td><td>2503</td></tr>\n",
       "<tr><td>5th-6th</td><td>482</td><td>27</td></tr>\n",
       "<tr><td>7th-8th</td><td>893</td><td>62</td></tr>\n",
       "<tr><td>11th</td><td>1720</td><td>92</td></tr>\n",
       "<tr><td>Masters</td><td>1198</td><td>1459</td></tr>\n",
       "<tr><td>Prof-school</td><td>217</td><td>617</td></tr>\n",
       "<tr><td>12th</td><td>609</td><td>48</td></tr>\n",
       "<tr><td>Doctorate</td><td>163</td><td>431</td></tr>\n",
       "<tr><td>Bachelors</td><td>4712</td><td>3313</td></tr>\n",
       "<tr><td>Assoc-acdm</td><td>1188</td><td>413</td></tr>\n",
       "</table>\n"
      ],
      "text/plain": [
       "+----------------+-----+----+\n",
       "|education_income|<=50K|>50K|\n",
       "+----------------+-----+----+\n",
       "|    Some-college| 8815|2063|\n",
       "|            10th| 1302|  87|\n",
       "|         1st-4th|  239|   8|\n",
       "|       Assoc-voc| 1539| 522|\n",
       "|       Preschool|   82|   1|\n",
       "|             9th|  715|  41|\n",
       "|         HS-grad|13281|2503|\n",
       "|         5th-6th|  482|  27|\n",
       "|         7th-8th|  893|  62|\n",
       "|            11th| 1720|  92|\n",
       "|         Masters| 1198|1459|\n",
       "|     Prof-school|  217| 617|\n",
       "|            12th|  609|  48|\n",
       "|       Doctorate|  163| 431|\n",
       "|       Bachelors| 4712|3313|\n",
       "|      Assoc-acdm| 1188| 413|\n",
       "+----------------+-----+----+"
      ]
     },
     "execution_count": 53,
     "metadata": {},
     "output_type": "execute_result"
    }
   ],
   "source": [
    "adult_df_casted.crosstab('education', 'income')"
   ]
  },
  {
   "cell_type": "code",
   "execution_count": 55,
   "id": "f88db7a3",
   "metadata": {},
   "outputs": [
    {
     "name": "stdout",
     "output_type": "stream",
     "text": [
      "+----------------+-----+----+\n",
      "|workclass_income|<=50K|>50K|\n",
      "+----------------+-----+----+\n",
      "|Self-emp-not-inc|2785 |1077|\n",
      "|State-gov       |1451 |530 |\n",
      "|Local-gov       |2209 |927 |\n",
      "|Without-pay     |19   |2   |\n",
      "|Federal-gov     |871  |561 |\n",
      "|?               |2534 |265 |\n",
      "|Never-worked    |10   |0   |\n",
      "|Private         |26519|7387|\n",
      "|Self-emp-inc    |757  |938 |\n",
      "+----------------+-----+----+\n",
      "\n",
      "+---------------------+-----+----+\n",
      "|marital-status_income|<=50K|>50K|\n",
      "+---------------------+-----+----+\n",
      "|Separated            |1431 |99  |\n",
      "|Widowed              |1390 |128 |\n",
      "|Never-married        |15384|733 |\n",
      "|Divorced             |5962 |671 |\n",
      "|Married-AF-spouse    |23   |14  |\n",
      "|Married-civ-spouse   |12395|9984|\n",
      "|Married-spouse-absent|570  |58  |\n",
      "+---------------------+-----+----+\n",
      "\n",
      "+-----------------+-----+----+\n",
      "|occupation_income|<=50K|>50K|\n",
      "+-----------------+-----+----+\n",
      "|Sales            |4029 |1475|\n",
      "|Craft-repair     |4729 |1383|\n",
      "|Other-service    |4719 |204 |\n",
      "|Tech-support     |1026 |420 |\n",
      "|Prof-specialty   |3388 |2784|\n",
      "|Protective-serv  |675  |308 |\n",
      "|Transport-moving |1874 |481 |\n",
      "|Exec-managerial  |3178 |2908|\n",
      "|?                |2544 |265 |\n",
      "|Adm-clerical     |4843 |768 |\n",
      "|Handlers-cleaners|1934 |138 |\n",
      "|Machine-op-inspct|2650 |372 |\n",
      "|Priv-house-serv  |239  |3   |\n",
      "|Armed-Forces     |10   |5   |\n",
      "|Farming-fishing  |1317 |173 |\n",
      "+-----------------+-----+----+\n",
      "\n",
      "+-------------------+-----+----+\n",
      "|relationship_income|<=50K|>50K|\n",
      "+-------------------+-----+----+\n",
      "|Own-child          |7470 |111 |\n",
      "|Unmarried          |4816 |309 |\n",
      "|Other-relative     |1454 |52  |\n",
      "|Wife               |1238 |1093|\n",
      "|Husband            |10870|8846|\n",
      "|Not-in-family      |11307|1276|\n",
      "+-------------------+-----+----+\n",
      "\n",
      "+------------------+-----+-----+\n",
      "|race_income       |<=50K|>50K |\n",
      "+------------------+-----+-----+\n",
      "|Other             |356  |50   |\n",
      "|Amer-Indian-Eskimo|415  |55   |\n",
      "|White             |31155|10607|\n",
      "|Black             |4119 |566  |\n",
      "|Asian-Pac-Islander|1110 |409  |\n",
      "+------------------+-----+-----+\n",
      "\n",
      "+-------------+-----+----+\n",
      "|gender_income|<=50K|>50K|\n",
      "+-------------+-----+----+\n",
      "|Male         |22732|9918|\n",
      "|Female       |14423|1769|\n",
      "+-------------+-----+----+\n",
      "\n",
      "+---------------------+-----+----+\n",
      "|native-country_income|<=50K|>50K|\n",
      "+---------------------+-----+----+\n",
      "|Haiti                |66   |9   |\n",
      "|Poland               |70   |17  |\n",
      "|Philippines          |210  |85  |\n",
      "|South                |95   |20  |\n",
      "|Yugoslavia           |15   |8   |\n",
      "|Greece               |31   |18  |\n",
      "|Japan                |60   |32  |\n",
      "|Thailand             |25   |5   |\n",
      "|Laos                 |21   |2   |\n",
      "|Trinadad&Tobago      |25   |2   |\n",
      "|Cambodia             |19   |9   |\n",
      "|Puerto-Rico          |164  |20  |\n",
      "|Columbia             |81   |4   |\n",
      "|China                |86   |36  |\n",
      "|Mexico               |904  |47  |\n",
      "|Taiwan               |39   |26  |\n",
      "|Iran                 |37   |22  |\n",
      "|Nicaragua            |46   |3   |\n",
      "|Peru                 |42   |4   |\n",
      "|Guatemala            |85   |3   |\n",
      "+---------------------+-----+----+\n",
      "only showing top 20 rows\n",
      "\n"
     ]
    }
   ],
   "source": [
    "# Checking similar crosstabs with other categorical variables\n",
    "for c in ['workclass', 'marital-status', 'occupation', 'relationship', 'race', 'gender', 'native-country']:\n",
    "    adult_df_casted.crosstab(c, 'income').sort(\"count\",ascending=True)\\"
   ]
  },
  {
   "cell_type": "markdown",
   "id": "cfeb5f98",
   "metadata": {},
   "source": [
    "## Looking at the crosstabs, there seems to be junk data with \"?\" character in some of the features. We will need to handle it at a later point"
   ]
  },
  {
   "cell_type": "markdown",
   "id": "454d84ed",
   "metadata": {},
   "source": [
    "### 6. Number of people aged > 40 yrs"
   ]
  },
  {
   "cell_type": "code",
   "execution_count": 13,
   "id": "e68782db",
   "metadata": {},
   "outputs": [
    {
     "data": {
      "text/plain": [
       "20211"
      ]
     },
     "execution_count": 13,
     "metadata": {},
     "output_type": "execute_result"
    }
   ],
   "source": [
    "adult_df_casted.where(adult_df_casted['age']>40).count()"
   ]
  },
  {
   "cell_type": "markdown",
   "id": "95b82c56",
   "metadata": {},
   "source": [
    "### 7. Feature Engineering/Data Wrangling"
   ]
  },
  {
   "cell_type": "markdown",
   "id": "461e583f",
   "metadata": {},
   "source": [
    "#### -- To capture non-linear relationship of age and income-range, we will add a age-squared column"
   ]
  },
  {
   "cell_type": "code",
   "execution_count": 14,
   "id": "5cd1cf28",
   "metadata": {},
   "outputs": [],
   "source": [
    "# Adding a age-squared column to capture non-linear relationship of age with income-range\n",
    "\n",
    "adult_df_casted = adult_df_casted.withColumn('age-squared', adult_df_casted.age**2) "
   ]
  },
  {
   "cell_type": "code",
   "execution_count": 15,
   "id": "02904947",
   "metadata": {},
   "outputs": [
    {
     "name": "stdout",
     "output_type": "stream",
     "text": [
      "root\n",
      " |-- x: integer (nullable = true)\n",
      " |-- age: integer (nullable = true)\n",
      " |-- workclass: string (nullable = true)\n",
      " |-- fnlwgt: double (nullable = true)\n",
      " |-- education: string (nullable = true)\n",
      " |-- educational-num: integer (nullable = true)\n",
      " |-- marital-status: string (nullable = true)\n",
      " |-- occupation: string (nullable = true)\n",
      " |-- relationship: string (nullable = true)\n",
      " |-- race: string (nullable = true)\n",
      " |-- gender: string (nullable = true)\n",
      " |-- capital-gain: double (nullable = true)\n",
      " |-- capital-loss: double (nullable = true)\n",
      " |-- hours-per-week: integer (nullable = true)\n",
      " |-- native-country: string (nullable = true)\n",
      " |-- income: string (nullable = true)\n",
      " |-- age-squared: double (nullable = true)\n",
      "\n"
     ]
    }
   ],
   "source": [
    "adult_df_casted.printSchema()"
   ]
  },
  {
   "cell_type": "markdown",
   "id": "2ee06418",
   "metadata": {},
   "source": [
    "#### -- We need to check for feature-groups having single observations"
   ]
  },
  {
   "cell_type": "code",
   "execution_count": 56,
   "id": "ac2bddf1",
   "metadata": {},
   "outputs": [
    {
     "name": "stdout",
     "output_type": "stream",
     "text": [
      "+----------------+-----+\n",
      "|       workclass|count|\n",
      "+----------------+-----+\n",
      "|    Never-worked|   10|\n",
      "|     Without-pay|   21|\n",
      "|     Federal-gov| 1432|\n",
      "|    Self-emp-inc| 1695|\n",
      "|       State-gov| 1981|\n",
      "|               ?| 2799|\n",
      "|       Local-gov| 3136|\n",
      "|Self-emp-not-inc| 3862|\n",
      "|         Private|33906|\n",
      "+----------------+-----+\n",
      "\n",
      "+--------------------+-----+\n",
      "|      marital-status|count|\n",
      "+--------------------+-----+\n",
      "|   Married-AF-spouse|   37|\n",
      "|Married-spouse-ab...|  628|\n",
      "|             Widowed| 1518|\n",
      "|           Separated| 1530|\n",
      "|            Divorced| 6633|\n",
      "|       Never-married|16117|\n",
      "|  Married-civ-spouse|22379|\n",
      "+--------------------+-----+\n",
      "\n",
      "+-----------------+-----+\n",
      "|       occupation|count|\n",
      "+-----------------+-----+\n",
      "|     Armed-Forces|   15|\n",
      "|  Priv-house-serv|  242|\n",
      "|  Protective-serv|  983|\n",
      "|     Tech-support| 1446|\n",
      "|  Farming-fishing| 1490|\n",
      "|Handlers-cleaners| 2072|\n",
      "| Transport-moving| 2355|\n",
      "|                ?| 2809|\n",
      "|Machine-op-inspct| 3022|\n",
      "|    Other-service| 4923|\n",
      "|            Sales| 5504|\n",
      "|     Adm-clerical| 5611|\n",
      "|  Exec-managerial| 6086|\n",
      "|     Craft-repair| 6112|\n",
      "|   Prof-specialty| 6172|\n",
      "+-----------------+-----+\n",
      "\n",
      "+--------------+-----+\n",
      "|  relationship|count|\n",
      "+--------------+-----+\n",
      "|Other-relative| 1506|\n",
      "|          Wife| 2331|\n",
      "|     Unmarried| 5125|\n",
      "|     Own-child| 7581|\n",
      "| Not-in-family|12583|\n",
      "|       Husband|19716|\n",
      "+--------------+-----+\n",
      "\n",
      "+------------------+-----+\n",
      "|              race|count|\n",
      "+------------------+-----+\n",
      "|             Other|  406|\n",
      "|Amer-Indian-Eskimo|  470|\n",
      "|Asian-Pac-Islander| 1519|\n",
      "|             Black| 4685|\n",
      "|             White|41762|\n",
      "+------------------+-----+\n",
      "\n",
      "+------+-----+\n",
      "|gender|count|\n",
      "+------+-----+\n",
      "|Female|16192|\n",
      "|  Male|32650|\n",
      "+------+-----+\n",
      "\n",
      "+--------------------+-----+\n",
      "|      native-country|count|\n",
      "+--------------------+-----+\n",
      "|  Holand-Netherlands|    1|\n",
      "|             Hungary|   19|\n",
      "|            Honduras|   20|\n",
      "|            Scotland|   21|\n",
      "|Outlying-US(Guam-...|   23|\n",
      "|          Yugoslavia|   23|\n",
      "|                Laos|   23|\n",
      "|     Trinadad&Tobago|   27|\n",
      "|            Cambodia|   28|\n",
      "|                Hong|   30|\n",
      "|            Thailand|   30|\n",
      "|             Ireland|   37|\n",
      "|              France|   38|\n",
      "|             Ecuador|   45|\n",
      "|                Peru|   46|\n",
      "|           Nicaragua|   49|\n",
      "|              Greece|   49|\n",
      "|                Iran|   59|\n",
      "|              Taiwan|   65|\n",
      "|            Portugal|   67|\n",
      "+--------------------+-----+\n",
      "only showing top 20 rows\n",
      "\n"
     ]
    }
   ],
   "source": [
    "# Checking instances of single observation groups for categorical variables\n",
    "for c in ['workclass', 'marital-status', 'occupation', 'relationship', 'race', 'gender', 'native-country']:\n",
    "    adult_df_casted.groupBy(c).count().sort(\"count\", ascending=True).show()"
   ]
  },
  {
   "cell_type": "code",
   "execution_count": null,
   "id": "98accc2c",
   "metadata": {},
   "outputs": [],
   "source": []
  },
  {
   "cell_type": "markdown",
   "id": "a8b7742d",
   "metadata": {},
   "source": [
    "### -- As per above tables, in native-country column, the \"Holand-Netherlands\" group has only 1 observation, we will remove this"
   ]
  },
  {
   "cell_type": "code",
   "execution_count": 16,
   "id": "daec0ec8",
   "metadata": {},
   "outputs": [],
   "source": [
    "# Education = Preschool + Income > 50K --> Only single data point. This can be removed\n",
    "adult_df_filtered = adult_df_casted.where(~((adult_df_casted.education == 'Preschool') & (adult_df_casted.income=='>50K')))"
   ]
  },
  {
   "cell_type": "code",
   "execution_count": 17,
   "id": "904fee80",
   "metadata": {},
   "outputs": [
    {
     "name": "stdout",
     "output_type": "stream",
     "text": [
      "Original number of rows:  48842\n",
      "Final number of rows:  48841\n"
     ]
    }
   ],
   "source": [
    "# Verifying number of rows\n",
    "print(\"Original number of rows: \", adult_df.count())\n",
    "print(\"Final number of rows: \", adult_df_filtered.count())"
   ]
  },
  {
   "cell_type": "code",
   "execution_count": 30,
   "id": "ef9463a9",
   "metadata": {},
   "outputs": [
    {
     "name": "stdout",
     "output_type": "stream",
     "text": [
      "x : 0\n",
      "age : 0\n",
      "workclass : 2799\n",
      "fnlwgt : 0\n",
      "education : 0\n",
      "educational-num : 0\n",
      "marital-status : 0\n",
      "occupation : 2809\n",
      "relationship : 0\n",
      "race : 0\n",
      "gender : 0\n",
      "capital-gain : 0\n",
      "capital-loss : 0\n",
      "hours-per-week : 0\n",
      "native-country : 857\n",
      "income : 0\n",
      "age-squared : 0\n"
     ]
    }
   ],
   "source": [
    "# Checking for junk values in the dataset\n",
    "for column in adult_df_filtered.columns:\n",
    "    count = adult_df_filtered.filter(adult_df_filtered[column]=='?').count()\n",
    "    print(f\"{column} : {count}\")"
   ]
  },
  {
   "cell_type": "markdown",
   "id": "bb240089",
   "metadata": {},
   "source": [
    "### Multiple columns have junk character data. We will try two approaches to tackle this:\n",
    "1. Remove the rows which have this character in the given columns\n",
    "2. Replace \"?\" with the mode of the respective column"
   ]
  },
  {
   "cell_type": "code",
   "execution_count": 42,
   "id": "4b85802d",
   "metadata": {},
   "outputs": [
    {
     "data": {
      "text/plain": [
       "45221"
      ]
     },
     "execution_count": 42,
     "metadata": {},
     "output_type": "execute_result"
    }
   ],
   "source": [
    "# 1. Creating a reduced sample dataframe with junk data removed\n",
    "adult_df_reduced = adult_df_filtered.where((adult_df_filtered['workclass'] != '?') \\\n",
    "                                           & (adult_df_filtered['occupation'] !='?') \\\n",
    "                                           & (adult_df_filtered['native-country']!='?'))\n",
    "adult_df_reduced.count()"
   ]
  },
  {
   "cell_type": "code",
   "execution_count": 40,
   "id": "a6b89d9c",
   "metadata": {},
   "outputs": [
    {
     "data": {
      "text/plain": [
       "3620"
      ]
     },
     "execution_count": 40,
     "metadata": {},
     "output_type": "execute_result"
    }
   ],
   "source": [
    "# 2. Creating a cleaned dataframe with junk data replaced with mode of the column\n"
   ]
  },
  {
   "cell_type": "code",
   "execution_count": null,
   "id": "cf53af9a",
   "metadata": {},
   "outputs": [],
   "source": []
  }
 ],
 "metadata": {
  "kernelspec": {
   "display_name": "Pyspark 3",
   "language": "python",
   "name": "pyspark3"
  },
  "language_info": {
   "codemirror_mode": {
    "name": "ipython",
    "version": 3
   },
   "file_extension": ".py",
   "mimetype": "text/x-python",
   "name": "python",
   "nbconvert_exporter": "python",
   "pygments_lexer": "ipython3",
   "version": "3.6.12"
  }
 },
 "nbformat": 4,
 "nbformat_minor": 5
}
