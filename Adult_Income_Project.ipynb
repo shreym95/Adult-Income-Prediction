{
 "cells": [
  {
   "cell_type": "markdown",
   "id": "2210de6c",
   "metadata": {},
   "source": [
    "# Analytics Vidhya Big Data Engineering Training Batch\n",
    "### Spark Assessment, Shrey Marwaha, 18th June 2022"
   ]
  },
  {
   "cell_type": "code",
   "execution_count": 1,
   "id": "32cceeff",
   "metadata": {},
   "outputs": [],
   "source": [
    "from pyspark.sql import SparkSession\n",
    "from pyspark.sql.functions import col, count, when, countDistinct\n",
    "from pyspark.ml import Pipeline\n",
    "from pyspark.ml.feature import StringIndexer, OneHotEncoder, VectorAssembler\n",
    "from pyspark.ml.classification import RandomForestClassifier, LogisticRegression\n",
    "from pyspark.ml.evaluation import BinaryClassificationEvaluator\n",
    "from pyspark.ml.tuning import ParamGridBuilder, CrossValidator\n",
    "from time import *"
   ]
  },
  {
   "cell_type": "code",
   "execution_count": 2,
   "id": "003795fe",
   "metadata": {},
   "outputs": [],
   "source": [
    "spark = SparkSession.builder \\\n",
    "                    .appName('Adult Income Range Prediction') \\\n",
    "                    .getOrCreate()"
   ]
  },
  {
   "cell_type": "code",
   "execution_count": 3,
   "id": "47a780fd",
   "metadata": {},
   "outputs": [],
   "source": [
    "#spark.stop()"
   ]
  },
  {
   "cell_type": "code",
   "execution_count": 4,
   "id": "e08b00cb",
   "metadata": {},
   "outputs": [
    {
     "data": {
      "text/html": [
       "\n",
       "            <div>\n",
       "                <p><b>SparkSession - in-memory</b></p>\n",
       "                \n",
       "        <div>\n",
       "            <p><b>SparkContext</b></p>\n",
       "\n",
       "            <p><a href=\"http://g01.itversity.com:4040\">Spark UI</a></p>\n",
       "\n",
       "            <dl>\n",
       "              <dt>Version</dt>\n",
       "                <dd><code>v3.0.1</code></dd>\n",
       "              <dt>Master</dt>\n",
       "                <dd><code>yarn</code></dd>\n",
       "              <dt>AppName</dt>\n",
       "                <dd><code>Adult Income Range Prediction</code></dd>\n",
       "            </dl>\n",
       "        </div>\n",
       "        \n",
       "            </div>\n",
       "        "
      ],
      "text/plain": [
       "<pyspark.sql.session.SparkSession at 0x7f29fac57d30>"
      ]
     },
     "execution_count": 4,
     "metadata": {},
     "output_type": "execute_result"
    }
   ],
   "source": [
    "spark"
   ]
  },
  {
   "cell_type": "markdown",
   "id": "b49ace91",
   "metadata": {},
   "source": [
    "### 1. Loading the data in Spark Dataframe"
   ]
  },
  {
   "cell_type": "code",
   "execution_count": 5,
   "id": "3fb69d5c",
   "metadata": {},
   "outputs": [],
   "source": [
    "adult_df = spark.read.format(\"csv\").option(\"header\", True).option(\"inferSchema\", True).load(\"adult_data.csv\")"
   ]
  },
  {
   "cell_type": "code",
   "execution_count": 6,
   "id": "e3035010",
   "metadata": {},
   "outputs": [
    {
     "name": "stdout",
     "output_type": "stream",
     "text": [
      "+---+---+---------+------+------------+---------------+------------------+-----------------+------------+-----+------+------------+------------+--------------+--------------+------+\n",
      "|  x|age|workclass|fnlwgt|   education|educational-num|    marital-status|       occupation|relationship| race|gender|capital-gain|capital-loss|hours-per-week|native-country|income|\n",
      "+---+---+---------+------+------------+---------------+------------------+-----------------+------------+-----+------+------------+------------+--------------+--------------+------+\n",
      "|  1| 25|  Private|226802|        11th|              7|     Never-married|Machine-op-inspct|   Own-child|Black|  Male|           0|           0|            40| United-States| <=50K|\n",
      "|  2| 38|  Private| 89814|     HS-grad|              9|Married-civ-spouse|  Farming-fishing|     Husband|White|  Male|           0|           0|            50| United-States| <=50K|\n",
      "|  3| 28|Local-gov|336951|  Assoc-acdm|             12|Married-civ-spouse|  Protective-serv|     Husband|White|  Male|           0|           0|            40| United-States|  >50K|\n",
      "|  4| 44|  Private|160323|Some-college|             10|Married-civ-spouse|Machine-op-inspct|     Husband|Black|  Male|        7688|           0|            40| United-States|  >50K|\n",
      "|  5| 18|        ?|103497|Some-college|             10|     Never-married|                ?|   Own-child|White|Female|           0|           0|            30| United-States| <=50K|\n",
      "+---+---+---------+------+------------+---------------+------------------+-----------------+------------+-----+------+------------+------------+--------------+--------------+------+\n",
      "only showing top 5 rows\n",
      "\n"
     ]
    }
   ],
   "source": [
    "adult_df.show(5)"
   ]
  },
  {
   "cell_type": "code",
   "execution_count": 7,
   "id": "b8838a45",
   "metadata": {},
   "outputs": [
    {
     "name": "stdout",
     "output_type": "stream",
     "text": [
      "root\n",
      " |-- x: integer (nullable = true)\n",
      " |-- age: integer (nullable = true)\n",
      " |-- workclass: string (nullable = true)\n",
      " |-- fnlwgt: integer (nullable = true)\n",
      " |-- education: string (nullable = true)\n",
      " |-- educational-num: integer (nullable = true)\n",
      " |-- marital-status: string (nullable = true)\n",
      " |-- occupation: string (nullable = true)\n",
      " |-- relationship: string (nullable = true)\n",
      " |-- race: string (nullable = true)\n",
      " |-- gender: string (nullable = true)\n",
      " |-- capital-gain: integer (nullable = true)\n",
      " |-- capital-loss: integer (nullable = true)\n",
      " |-- hours-per-week: integer (nullable = true)\n",
      " |-- native-country: string (nullable = true)\n",
      " |-- income: string (nullable = true)\n",
      "\n"
     ]
    }
   ],
   "source": [
    "adult_df.printSchema()"
   ]
  },
  {
   "cell_type": "markdown",
   "id": "d2e5e03d",
   "metadata": {},
   "source": [
    "### 2. Converting relevant continuous columns to appropriate format\n",
    "- Not converting x, age, educational-num, hours-per-week as they are small numbers so int should be fine\n",
    "- Converting fnlwgt, capital-gain, capital-loss to double "
   ]
  },
  {
   "cell_type": "code",
   "execution_count": 8,
   "id": "4d0cf7d4",
   "metadata": {},
   "outputs": [
    {
     "name": "stdout",
     "output_type": "stream",
     "text": [
      "root\n",
      " |-- x: integer (nullable = true)\n",
      " |-- age: integer (nullable = true)\n",
      " |-- workclass: string (nullable = true)\n",
      " |-- fnlwgt: double (nullable = true)\n",
      " |-- education: string (nullable = true)\n",
      " |-- educational-num: integer (nullable = true)\n",
      " |-- marital-status: string (nullable = true)\n",
      " |-- occupation: string (nullable = true)\n",
      " |-- relationship: string (nullable = true)\n",
      " |-- race: string (nullable = true)\n",
      " |-- gender: string (nullable = true)\n",
      " |-- capital-gain: double (nullable = true)\n",
      " |-- capital-loss: double (nullable = true)\n",
      " |-- hours-per-week: integer (nullable = true)\n",
      " |-- native-country: string (nullable = true)\n",
      " |-- income: string (nullable = true)\n",
      "\n"
     ]
    }
   ],
   "source": [
    "columns_to_cast = ['fnlwgt', 'capital-gain', 'capital-loss']\n",
    "cast_expr = [\n",
    "    col(c).cast(\"double\") if c in columns_to_cast else col(c) for c in adult_df.columns\n",
    "]\n",
    "adult_df_casted = adult_df.select(*cast_expr)\n",
    "adult_df_casted.printSchema()"
   ]
  },
  {
   "cell_type": "code",
   "execution_count": 9,
   "id": "a36061f1",
   "metadata": {},
   "outputs": [
    {
     "name": "stdout",
     "output_type": "stream",
     "text": [
      "+---+---+---------+--------+------------+---------------+------------------+-----------------+------------+-----+------+------------+------------+--------------+--------------+------+\n",
      "|  x|age|workclass|  fnlwgt|   education|educational-num|    marital-status|       occupation|relationship| race|gender|capital-gain|capital-loss|hours-per-week|native-country|income|\n",
      "+---+---+---------+--------+------------+---------------+------------------+-----------------+------------+-----+------+------------+------------+--------------+--------------+------+\n",
      "|  1| 25|  Private|226802.0|        11th|              7|     Never-married|Machine-op-inspct|   Own-child|Black|  Male|         0.0|         0.0|            40| United-States| <=50K|\n",
      "|  2| 38|  Private| 89814.0|     HS-grad|              9|Married-civ-spouse|  Farming-fishing|     Husband|White|  Male|         0.0|         0.0|            50| United-States| <=50K|\n",
      "|  3| 28|Local-gov|336951.0|  Assoc-acdm|             12|Married-civ-spouse|  Protective-serv|     Husband|White|  Male|         0.0|         0.0|            40| United-States|  >50K|\n",
      "|  4| 44|  Private|160323.0|Some-college|             10|Married-civ-spouse|Machine-op-inspct|     Husband|Black|  Male|      7688.0|         0.0|            40| United-States|  >50K|\n",
      "|  5| 18|        ?|103497.0|Some-college|             10|     Never-married|                ?|   Own-child|White|Female|         0.0|         0.0|            30| United-States| <=50K|\n",
      "+---+---+---------+--------+------------+---------------+------------------+-----------------+------------+-----+------+------------+------------+--------------+--------------+------+\n",
      "only showing top 5 rows\n",
      "\n"
     ]
    }
   ],
   "source": [
    "adult_df_casted.show(5)"
   ]
  },
  {
   "cell_type": "markdown",
   "id": "464739ed",
   "metadata": {},
   "source": [
    "### 3. Counting number of rows by education level"
   ]
  },
  {
   "cell_type": "code",
   "execution_count": 10,
   "id": "d4e05255",
   "metadata": {},
   "outputs": [
    {
     "name": "stdout",
     "output_type": "stream",
     "text": [
      "+------------+-----+\n",
      "|   education|count|\n",
      "+------------+-----+\n",
      "|     HS-grad|15784|\n",
      "|Some-college|10878|\n",
      "|   Bachelors| 8025|\n",
      "|     Masters| 2657|\n",
      "|   Assoc-voc| 2061|\n",
      "|        11th| 1812|\n",
      "|  Assoc-acdm| 1601|\n",
      "|        10th| 1389|\n",
      "|     7th-8th|  955|\n",
      "| Prof-school|  834|\n",
      "|         9th|  756|\n",
      "|        12th|  657|\n",
      "|   Doctorate|  594|\n",
      "|     5th-6th|  509|\n",
      "|     1st-4th|  247|\n",
      "|   Preschool|   83|\n",
      "+------------+-----+\n",
      "\n"
     ]
    }
   ],
   "source": [
    "adult_df_casted.groupBy(\"education\").count().orderBy('count', ascending=False).show()"
   ]
  },
  {
   "cell_type": "markdown",
   "id": "7e8e91b2",
   "metadata": {},
   "source": [
    "### 4. Summary stats of the data"
   ]
  },
  {
   "cell_type": "code",
   "execution_count": 11,
   "id": "bc386ba9",
   "metadata": {},
   "outputs": [
    {
     "data": {
      "text/html": [
       "<div>\n",
       "<style scoped>\n",
       "    .dataframe tbody tr th:only-of-type {\n",
       "        vertical-align: middle;\n",
       "    }\n",
       "\n",
       "    .dataframe tbody tr th {\n",
       "        vertical-align: top;\n",
       "    }\n",
       "\n",
       "    .dataframe thead th {\n",
       "        text-align: right;\n",
       "    }\n",
       "</style>\n",
       "<table border=\"1\" class=\"dataframe\">\n",
       "  <thead>\n",
       "    <tr style=\"text-align: right;\">\n",
       "      <th></th>\n",
       "      <th>0</th>\n",
       "      <th>1</th>\n",
       "      <th>2</th>\n",
       "      <th>3</th>\n",
       "      <th>4</th>\n",
       "    </tr>\n",
       "  </thead>\n",
       "  <tbody>\n",
       "    <tr>\n",
       "      <th>summary</th>\n",
       "      <td>count</td>\n",
       "      <td>mean</td>\n",
       "      <td>stddev</td>\n",
       "      <td>min</td>\n",
       "      <td>max</td>\n",
       "    </tr>\n",
       "    <tr>\n",
       "      <th>x</th>\n",
       "      <td>48842</td>\n",
       "      <td>24421.5</td>\n",
       "      <td>14099.615260708357</td>\n",
       "      <td>1</td>\n",
       "      <td>48842</td>\n",
       "    </tr>\n",
       "    <tr>\n",
       "      <th>age</th>\n",
       "      <td>48842</td>\n",
       "      <td>38.64358543876172</td>\n",
       "      <td>13.710509934443502</td>\n",
       "      <td>17</td>\n",
       "      <td>90</td>\n",
       "    </tr>\n",
       "    <tr>\n",
       "      <th>workclass</th>\n",
       "      <td>48842</td>\n",
       "      <td>None</td>\n",
       "      <td>None</td>\n",
       "      <td>?</td>\n",
       "      <td>Without-pay</td>\n",
       "    </tr>\n",
       "    <tr>\n",
       "      <th>fnlwgt</th>\n",
       "      <td>48842</td>\n",
       "      <td>189664.13459727284</td>\n",
       "      <td>105604.02542315757</td>\n",
       "      <td>12285.0</td>\n",
       "      <td>1490400.0</td>\n",
       "    </tr>\n",
       "    <tr>\n",
       "      <th>education</th>\n",
       "      <td>48842</td>\n",
       "      <td>None</td>\n",
       "      <td>None</td>\n",
       "      <td>10th</td>\n",
       "      <td>Some-college</td>\n",
       "    </tr>\n",
       "    <tr>\n",
       "      <th>educational-num</th>\n",
       "      <td>48842</td>\n",
       "      <td>10.078088530363212</td>\n",
       "      <td>2.570972755592252</td>\n",
       "      <td>1</td>\n",
       "      <td>16</td>\n",
       "    </tr>\n",
       "    <tr>\n",
       "      <th>marital-status</th>\n",
       "      <td>48842</td>\n",
       "      <td>None</td>\n",
       "      <td>None</td>\n",
       "      <td>Divorced</td>\n",
       "      <td>Widowed</td>\n",
       "    </tr>\n",
       "    <tr>\n",
       "      <th>occupation</th>\n",
       "      <td>48842</td>\n",
       "      <td>None</td>\n",
       "      <td>None</td>\n",
       "      <td>?</td>\n",
       "      <td>Transport-moving</td>\n",
       "    </tr>\n",
       "    <tr>\n",
       "      <th>relationship</th>\n",
       "      <td>48842</td>\n",
       "      <td>None</td>\n",
       "      <td>None</td>\n",
       "      <td>Husband</td>\n",
       "      <td>Wife</td>\n",
       "    </tr>\n",
       "    <tr>\n",
       "      <th>race</th>\n",
       "      <td>48842</td>\n",
       "      <td>None</td>\n",
       "      <td>None</td>\n",
       "      <td>Amer-Indian-Eskimo</td>\n",
       "      <td>White</td>\n",
       "    </tr>\n",
       "    <tr>\n",
       "      <th>gender</th>\n",
       "      <td>48842</td>\n",
       "      <td>None</td>\n",
       "      <td>None</td>\n",
       "      <td>Female</td>\n",
       "      <td>Male</td>\n",
       "    </tr>\n",
       "    <tr>\n",
       "      <th>capital-gain</th>\n",
       "      <td>48842</td>\n",
       "      <td>1079.0676262233324</td>\n",
       "      <td>7452.019057655413</td>\n",
       "      <td>0.0</td>\n",
       "      <td>99999.0</td>\n",
       "    </tr>\n",
       "    <tr>\n",
       "      <th>capital-loss</th>\n",
       "      <td>48842</td>\n",
       "      <td>87.50231358257237</td>\n",
       "      <td>403.0045521243591</td>\n",
       "      <td>0.0</td>\n",
       "      <td>4356.0</td>\n",
       "    </tr>\n",
       "    <tr>\n",
       "      <th>hours-per-week</th>\n",
       "      <td>48842</td>\n",
       "      <td>40.422382375824085</td>\n",
       "      <td>12.391444024252289</td>\n",
       "      <td>1</td>\n",
       "      <td>99</td>\n",
       "    </tr>\n",
       "    <tr>\n",
       "      <th>native-country</th>\n",
       "      <td>48842</td>\n",
       "      <td>None</td>\n",
       "      <td>None</td>\n",
       "      <td>?</td>\n",
       "      <td>Yugoslavia</td>\n",
       "    </tr>\n",
       "    <tr>\n",
       "      <th>income</th>\n",
       "      <td>48842</td>\n",
       "      <td>None</td>\n",
       "      <td>None</td>\n",
       "      <td>&lt;=50K</td>\n",
       "      <td>&gt;50K</td>\n",
       "    </tr>\n",
       "  </tbody>\n",
       "</table>\n",
       "</div>"
      ],
      "text/plain": [
       "                     0                   1                   2  \\\n",
       "summary          count                mean              stddev   \n",
       "x                48842             24421.5  14099.615260708357   \n",
       "age              48842   38.64358543876172  13.710509934443502   \n",
       "workclass        48842                None                None   \n",
       "fnlwgt           48842  189664.13459727284  105604.02542315757   \n",
       "education        48842                None                None   \n",
       "educational-num  48842  10.078088530363212   2.570972755592252   \n",
       "marital-status   48842                None                None   \n",
       "occupation       48842                None                None   \n",
       "relationship     48842                None                None   \n",
       "race             48842                None                None   \n",
       "gender           48842                None                None   \n",
       "capital-gain     48842  1079.0676262233324   7452.019057655413   \n",
       "capital-loss     48842   87.50231358257237   403.0045521243591   \n",
       "hours-per-week   48842  40.422382375824085  12.391444024252289   \n",
       "native-country   48842                None                None   \n",
       "income           48842                None                None   \n",
       "\n",
       "                                  3                 4  \n",
       "summary                         min               max  \n",
       "x                                 1             48842  \n",
       "age                              17                90  \n",
       "workclass                         ?       Without-pay  \n",
       "fnlwgt                      12285.0         1490400.0  \n",
       "education                      10th      Some-college  \n",
       "educational-num                   1                16  \n",
       "marital-status             Divorced           Widowed  \n",
       "occupation                        ?  Transport-moving  \n",
       "relationship                Husband              Wife  \n",
       "race             Amer-Indian-Eskimo             White  \n",
       "gender                       Female              Male  \n",
       "capital-gain                    0.0           99999.0  \n",
       "capital-loss                    0.0            4356.0  \n",
       "hours-per-week                    1                99  \n",
       "native-country                    ?        Yugoslavia  \n",
       "income                        <=50K              >50K  "
      ]
     },
     "execution_count": 11,
     "metadata": {},
     "output_type": "execute_result"
    }
   ],
   "source": [
    "adult_df_casted.describe().toPandas().transpose()"
   ]
  },
  {
   "cell_type": "markdown",
   "id": "701db40b",
   "metadata": {},
   "source": [
    "### 5. Crosstab of the data for Education vs Income range "
   ]
  },
  {
   "cell_type": "code",
   "execution_count": 12,
   "id": "9417cdd2",
   "metadata": {},
   "outputs": [
    {
     "data": {
      "text/html": [
       "<table border='1'>\n",
       "<tr><th>education_income</th><th>&lt;=50K</th><th>&gt;50K</th></tr>\n",
       "<tr><td>Some-college</td><td>8815</td><td>2063</td></tr>\n",
       "<tr><td>10th</td><td>1302</td><td>87</td></tr>\n",
       "<tr><td>1st-4th</td><td>239</td><td>8</td></tr>\n",
       "<tr><td>Assoc-voc</td><td>1539</td><td>522</td></tr>\n",
       "<tr><td>Preschool</td><td>82</td><td>1</td></tr>\n",
       "<tr><td>9th</td><td>715</td><td>41</td></tr>\n",
       "<tr><td>HS-grad</td><td>13281</td><td>2503</td></tr>\n",
       "<tr><td>5th-6th</td><td>482</td><td>27</td></tr>\n",
       "<tr><td>7th-8th</td><td>893</td><td>62</td></tr>\n",
       "<tr><td>11th</td><td>1720</td><td>92</td></tr>\n",
       "<tr><td>Masters</td><td>1198</td><td>1459</td></tr>\n",
       "<tr><td>Prof-school</td><td>217</td><td>617</td></tr>\n",
       "<tr><td>12th</td><td>609</td><td>48</td></tr>\n",
       "<tr><td>Doctorate</td><td>163</td><td>431</td></tr>\n",
       "<tr><td>Bachelors</td><td>4712</td><td>3313</td></tr>\n",
       "<tr><td>Assoc-acdm</td><td>1188</td><td>413</td></tr>\n",
       "</table>\n"
      ],
      "text/plain": [
       "+----------------+-----+----+\n",
       "|education_income|<=50K|>50K|\n",
       "+----------------+-----+----+\n",
       "|    Some-college| 8815|2063|\n",
       "|            10th| 1302|  87|\n",
       "|         1st-4th|  239|   8|\n",
       "|       Assoc-voc| 1539| 522|\n",
       "|       Preschool|   82|   1|\n",
       "|             9th|  715|  41|\n",
       "|         HS-grad|13281|2503|\n",
       "|         5th-6th|  482|  27|\n",
       "|         7th-8th|  893|  62|\n",
       "|            11th| 1720|  92|\n",
       "|         Masters| 1198|1459|\n",
       "|     Prof-school|  217| 617|\n",
       "|            12th|  609|  48|\n",
       "|       Doctorate|  163| 431|\n",
       "|       Bachelors| 4712|3313|\n",
       "|      Assoc-acdm| 1188| 413|\n",
       "+----------------+-----+----+"
      ]
     },
     "execution_count": 12,
     "metadata": {},
     "output_type": "execute_result"
    }
   ],
   "source": [
    "adult_df_casted.crosstab('education', 'income')"
   ]
  },
  {
   "cell_type": "code",
   "execution_count": 13,
   "id": "39575545",
   "metadata": {},
   "outputs": [
    {
     "name": "stdout",
     "output_type": "stream",
     "text": [
      "+----------------+-----+----+\n",
      "|workclass_income|<=50K|>50K|\n",
      "+----------------+-----+----+\n",
      "|Self-emp-not-inc| 2785|1077|\n",
      "|       State-gov| 1451| 530|\n",
      "|       Local-gov| 2209| 927|\n",
      "|     Without-pay|   19|   2|\n",
      "|     Federal-gov|  871| 561|\n",
      "|               ?| 2534| 265|\n",
      "|    Never-worked|   10|   0|\n",
      "|         Private|26519|7387|\n",
      "|    Self-emp-inc|  757| 938|\n",
      "+----------------+-----+----+\n",
      "\n",
      "+---------------------+-----+----+\n",
      "|marital-status_income|<=50K|>50K|\n",
      "+---------------------+-----+----+\n",
      "|            Separated| 1431|  99|\n",
      "|              Widowed| 1390| 128|\n",
      "|        Never-married|15384| 733|\n",
      "|             Divorced| 5962| 671|\n",
      "|    Married-AF-spouse|   23|  14|\n",
      "|   Married-civ-spouse|12395|9984|\n",
      "| Married-spouse-ab...|  570|  58|\n",
      "+---------------------+-----+----+\n",
      "\n",
      "+-----------------+-----+----+\n",
      "|occupation_income|<=50K|>50K|\n",
      "+-----------------+-----+----+\n",
      "|            Sales| 4029|1475|\n",
      "|     Craft-repair| 4729|1383|\n",
      "|    Other-service| 4719| 204|\n",
      "|     Tech-support| 1026| 420|\n",
      "|   Prof-specialty| 3388|2784|\n",
      "|  Protective-serv|  675| 308|\n",
      "| Transport-moving| 1874| 481|\n",
      "|  Exec-managerial| 3178|2908|\n",
      "|                ?| 2544| 265|\n",
      "|     Adm-clerical| 4843| 768|\n",
      "|Handlers-cleaners| 1934| 138|\n",
      "|Machine-op-inspct| 2650| 372|\n",
      "|  Priv-house-serv|  239|   3|\n",
      "|     Armed-Forces|   10|   5|\n",
      "|  Farming-fishing| 1317| 173|\n",
      "+-----------------+-----+----+\n",
      "\n",
      "+-------------------+-----+----+\n",
      "|relationship_income|<=50K|>50K|\n",
      "+-------------------+-----+----+\n",
      "|          Own-child| 7470| 111|\n",
      "|          Unmarried| 4816| 309|\n",
      "|     Other-relative| 1454|  52|\n",
      "|               Wife| 1238|1093|\n",
      "|            Husband|10870|8846|\n",
      "|      Not-in-family|11307|1276|\n",
      "+-------------------+-----+----+\n",
      "\n",
      "+------------------+-----+-----+\n",
      "|       race_income|<=50K| >50K|\n",
      "+------------------+-----+-----+\n",
      "|             Other|  356|   50|\n",
      "|Amer-Indian-Eskimo|  415|   55|\n",
      "|             White|31155|10607|\n",
      "|             Black| 4119|  566|\n",
      "|Asian-Pac-Islander| 1110|  409|\n",
      "+------------------+-----+-----+\n",
      "\n",
      "+-------------+-----+----+\n",
      "|gender_income|<=50K|>50K|\n",
      "+-------------+-----+----+\n",
      "|         Male|22732|9918|\n",
      "|       Female|14423|1769|\n",
      "+-------------+-----+----+\n",
      "\n",
      "+---------------------+-----+----+\n",
      "|native-country_income|<=50K|>50K|\n",
      "+---------------------+-----+----+\n",
      "|                Haiti|   66|   9|\n",
      "|               Poland|   70|  17|\n",
      "|          Philippines|  210|  85|\n",
      "|                South|   95|  20|\n",
      "|           Yugoslavia|   15|   8|\n",
      "|               Greece|   31|  18|\n",
      "|                Japan|   60|  32|\n",
      "|             Thailand|   25|   5|\n",
      "|                 Laos|   21|   2|\n",
      "|      Trinadad&Tobago|   25|   2|\n",
      "|             Cambodia|   19|   9|\n",
      "|          Puerto-Rico|  164|  20|\n",
      "|             Columbia|   81|   4|\n",
      "|                China|   86|  36|\n",
      "|               Mexico|  904|  47|\n",
      "|               Taiwan|   39|  26|\n",
      "|                 Iran|   37|  22|\n",
      "|            Nicaragua|   46|   3|\n",
      "|                 Peru|   42|   4|\n",
      "|            Guatemala|   85|   3|\n",
      "+---------------------+-----+----+\n",
      "only showing top 20 rows\n",
      "\n"
     ]
    }
   ],
   "source": [
    "# Checking similar crosstabs with other categorical variables\n",
    "for c in ['workclass', 'marital-status', 'occupation', 'relationship', 'race', 'gender', 'native-country']:\n",
    "    adult_df_casted.crosstab(c, 'income').show()"
   ]
  },
  {
   "cell_type": "markdown",
   "id": "0bd371b6",
   "metadata": {},
   "source": [
    "## Looking at the crosstabs, there seems to be junk data with \"?\" character in some of the features. We will need to handle it at a later point"
   ]
  },
  {
   "cell_type": "markdown",
   "id": "24e477a3",
   "metadata": {},
   "source": [
    "### 6. Number of people aged > 40 yrs"
   ]
  },
  {
   "cell_type": "code",
   "execution_count": 14,
   "id": "a3a663c0",
   "metadata": {},
   "outputs": [
    {
     "data": {
      "text/plain": [
       "20211"
      ]
     },
     "execution_count": 14,
     "metadata": {},
     "output_type": "execute_result"
    }
   ],
   "source": [
    "adult_df_casted.where(adult_df_casted['age']>40).count()"
   ]
  },
  {
   "cell_type": "markdown",
   "id": "58bd2be1",
   "metadata": {},
   "source": [
    "### 7. Feature Engineering/Data Wrangling"
   ]
  },
  {
   "cell_type": "markdown",
   "id": "b51d901e",
   "metadata": {},
   "source": [
    "#### -- Renaming columns"
   ]
  },
  {
   "cell_type": "code",
   "execution_count": 15,
   "id": "a462a4e6",
   "metadata": {},
   "outputs": [],
   "source": [
    "adult_df_casted = adult_df_casted.withColumnRenamed('educational-num', 'years_of_education')"
   ]
  },
  {
   "cell_type": "markdown",
   "id": "09239503",
   "metadata": {},
   "source": [
    "#### -- To capture non-linear relationship of age and income-range, we will add a age-squared column"
   ]
  },
  {
   "cell_type": "code",
   "execution_count": 16,
   "id": "bbb45089",
   "metadata": {},
   "outputs": [],
   "source": [
    "# Adding a age-squared column to capture non-linear relationship of age with income-range\n",
    "\n",
    "adult_df_casted = adult_df_casted.withColumn('age-squared', adult_df_casted.age**2) "
   ]
  },
  {
   "cell_type": "code",
   "execution_count": 17,
   "id": "66a1f84c",
   "metadata": {},
   "outputs": [
    {
     "name": "stdout",
     "output_type": "stream",
     "text": [
      "root\n",
      " |-- x: integer (nullable = true)\n",
      " |-- age: integer (nullable = true)\n",
      " |-- workclass: string (nullable = true)\n",
      " |-- fnlwgt: double (nullable = true)\n",
      " |-- education: string (nullable = true)\n",
      " |-- years_of_education: integer (nullable = true)\n",
      " |-- marital-status: string (nullable = true)\n",
      " |-- occupation: string (nullable = true)\n",
      " |-- relationship: string (nullable = true)\n",
      " |-- race: string (nullable = true)\n",
      " |-- gender: string (nullable = true)\n",
      " |-- capital-gain: double (nullable = true)\n",
      " |-- capital-loss: double (nullable = true)\n",
      " |-- hours-per-week: integer (nullable = true)\n",
      " |-- native-country: string (nullable = true)\n",
      " |-- income: string (nullable = true)\n",
      " |-- age-squared: double (nullable = true)\n",
      "\n"
     ]
    }
   ],
   "source": [
    "adult_df_casted.printSchema()"
   ]
  },
  {
   "cell_type": "markdown",
   "id": "37f1238e",
   "metadata": {},
   "source": [
    "#### -- We also need to check for feature-groups having single observations"
   ]
  },
  {
   "cell_type": "code",
   "execution_count": 18,
   "id": "06256636",
   "metadata": {},
   "outputs": [
    {
     "name": "stdout",
     "output_type": "stream",
     "text": [
      "+----------------+-----+\n",
      "|       workclass|count|\n",
      "+----------------+-----+\n",
      "|    Never-worked|   10|\n",
      "|     Without-pay|   21|\n",
      "|     Federal-gov| 1432|\n",
      "|    Self-emp-inc| 1695|\n",
      "|       State-gov| 1981|\n",
      "|               ?| 2799|\n",
      "|       Local-gov| 3136|\n",
      "|Self-emp-not-inc| 3862|\n",
      "|         Private|33906|\n",
      "+----------------+-----+\n",
      "\n",
      "+--------------------+-----+\n",
      "|      marital-status|count|\n",
      "+--------------------+-----+\n",
      "|   Married-AF-spouse|   37|\n",
      "|Married-spouse-ab...|  628|\n",
      "|             Widowed| 1518|\n",
      "|           Separated| 1530|\n",
      "|            Divorced| 6633|\n",
      "|       Never-married|16117|\n",
      "|  Married-civ-spouse|22379|\n",
      "+--------------------+-----+\n",
      "\n",
      "+-----------------+-----+\n",
      "|       occupation|count|\n",
      "+-----------------+-----+\n",
      "|     Armed-Forces|   15|\n",
      "|  Priv-house-serv|  242|\n",
      "|  Protective-serv|  983|\n",
      "|     Tech-support| 1446|\n",
      "|  Farming-fishing| 1490|\n",
      "|Handlers-cleaners| 2072|\n",
      "| Transport-moving| 2355|\n",
      "|                ?| 2809|\n",
      "|Machine-op-inspct| 3022|\n",
      "|    Other-service| 4923|\n",
      "|            Sales| 5504|\n",
      "|     Adm-clerical| 5611|\n",
      "|  Exec-managerial| 6086|\n",
      "|     Craft-repair| 6112|\n",
      "|   Prof-specialty| 6172|\n",
      "+-----------------+-----+\n",
      "\n",
      "+--------------+-----+\n",
      "|  relationship|count|\n",
      "+--------------+-----+\n",
      "|Other-relative| 1506|\n",
      "|          Wife| 2331|\n",
      "|     Unmarried| 5125|\n",
      "|     Own-child| 7581|\n",
      "| Not-in-family|12583|\n",
      "|       Husband|19716|\n",
      "+--------------+-----+\n",
      "\n",
      "+------------------+-----+\n",
      "|              race|count|\n",
      "+------------------+-----+\n",
      "|             Other|  406|\n",
      "|Amer-Indian-Eskimo|  470|\n",
      "|Asian-Pac-Islander| 1519|\n",
      "|             Black| 4685|\n",
      "|             White|41762|\n",
      "+------------------+-----+\n",
      "\n",
      "+------+-----+\n",
      "|gender|count|\n",
      "+------+-----+\n",
      "|Female|16192|\n",
      "|  Male|32650|\n",
      "+------+-----+\n",
      "\n",
      "+--------------------+-----+\n",
      "|      native-country|count|\n",
      "+--------------------+-----+\n",
      "|  Holand-Netherlands|    1|\n",
      "|             Hungary|   19|\n",
      "|            Honduras|   20|\n",
      "|            Scotland|   21|\n",
      "|Outlying-US(Guam-...|   23|\n",
      "|          Yugoslavia|   23|\n",
      "|                Laos|   23|\n",
      "|     Trinadad&Tobago|   27|\n",
      "|            Cambodia|   28|\n",
      "|                Hong|   30|\n",
      "|            Thailand|   30|\n",
      "|             Ireland|   37|\n",
      "|              France|   38|\n",
      "|             Ecuador|   45|\n",
      "|                Peru|   46|\n",
      "|              Greece|   49|\n",
      "|           Nicaragua|   49|\n",
      "|                Iran|   59|\n",
      "|              Taiwan|   65|\n",
      "|            Portugal|   67|\n",
      "+--------------------+-----+\n",
      "only showing top 20 rows\n",
      "\n"
     ]
    }
   ],
   "source": [
    "# Checking instances of single observation groups for categorical variables\n",
    "for c in ['workclass', 'marital-status', 'occupation', 'relationship', 'race', 'gender', 'native-country']:\n",
    "    adult_df_casted.groupBy(c).count().sort(\"count\", ascending=True).show()"
   ]
  },
  {
   "cell_type": "markdown",
   "id": "c4c461b2",
   "metadata": {},
   "source": [
    "### -- As per above tables, in native-country column, the \"Holand-Netherlands\" group has only 1 observation, we will remove this"
   ]
  },
  {
   "cell_type": "code",
   "execution_count": 19,
   "id": "484a10fc",
   "metadata": {},
   "outputs": [],
   "source": [
    "# Education = Preschool + Income > 50K --> Only single data point. This can be removed\n",
    "adult_df_filtered = adult_df_casted.where(adult_df_casted['native-country'] != 'Holand-Netherlands')"
   ]
  },
  {
   "cell_type": "code",
   "execution_count": 20,
   "id": "aa4b9a85",
   "metadata": {},
   "outputs": [
    {
     "name": "stdout",
     "output_type": "stream",
     "text": [
      "Original number of rows:  48842\n",
      "Final number of rows:  48841\n"
     ]
    }
   ],
   "source": [
    "# Verifying number of rows\n",
    "print(\"Original number of rows: \", adult_df.count())\n",
    "print(\"Final number of rows: \", adult_df_filtered.count())"
   ]
  },
  {
   "cell_type": "code",
   "execution_count": 21,
   "id": "c3c3727d",
   "metadata": {},
   "outputs": [
    {
     "name": "stdout",
     "output_type": "stream",
     "text": [
      "x : 0\n",
      "age : 0\n",
      "workclass : 2799\n",
      "fnlwgt : 0\n",
      "education : 0\n",
      "years_of_education : 0\n",
      "marital-status : 0\n",
      "occupation : 2809\n",
      "relationship : 0\n",
      "race : 0\n",
      "gender : 0\n",
      "capital-gain : 0\n",
      "capital-loss : 0\n",
      "hours-per-week : 0\n",
      "native-country : 857\n",
      "income : 0\n",
      "age-squared : 0\n"
     ]
    }
   ],
   "source": [
    "# Checking for junk values in the dataset\n",
    "for column in adult_df_filtered.columns:\n",
    "    count = adult_df_filtered.filter(adult_df_filtered[column]=='?').count()\n",
    "    print(f\"{column} : {count}\")"
   ]
  },
  {
   "cell_type": "markdown",
   "id": "619cf7cf",
   "metadata": {},
   "source": [
    "### Multiple columns have junk character data. We will try two approaches to tackle this:\n",
    "1. Remove the rows which have this character in the given columns\n",
    "2. Replace \"?\" with the mode of the respective column"
   ]
  },
  {
   "cell_type": "code",
   "execution_count": 22,
   "id": "3f074b55",
   "metadata": {},
   "outputs": [
    {
     "data": {
      "text/plain": [
       "45221"
      ]
     },
     "execution_count": 22,
     "metadata": {},
     "output_type": "execute_result"
    }
   ],
   "source": [
    "# 1. Creating a reduced sample dataframe with junk data removed\n",
    "adult_df_reduced = adult_df_filtered.where((adult_df_filtered['workclass'] != '?') \\\n",
    "                                           & (adult_df_filtered['occupation'] !='?') \\\n",
    "                                           & (adult_df_filtered['native-country']!='?'))\n",
    "adult_df_reduced.count()"
   ]
  },
  {
   "cell_type": "code",
   "execution_count": 23,
   "id": "f335b841",
   "metadata": {},
   "outputs": [
    {
     "name": "stdout",
     "output_type": "stream",
     "text": [
      "{'workclass': 'Private', 'occupation': 'Prof-specialty', 'native-country': 'United-States'}\n"
     ]
    }
   ],
   "source": [
    "# 2. Creating a cleaned dataframe with junk data replaced with mode of the column\n",
    "\n",
    "# 2.1 First creating a dict with mode values\n",
    "bad_columns_dict = {'workclass': '', 'occupation':'', 'native-country':''}\n",
    "\n",
    "for c in bad_columns_dict.keys():\n",
    "    mode = adult_df_filtered.where(adult_df_filtered[c]!=\"?\") \\\n",
    "                                    .groupBy(c) \\\n",
    "                                    .count() \\\n",
    "                                    .sort(\"count\", ascending=False) \\\n",
    "                                    .limit(1).collect()[0][0]\n",
    "    bad_columns_dict[c] = mode\n",
    "\n",
    "print(bad_columns_dict)"
   ]
  },
  {
   "cell_type": "code",
   "execution_count": 24,
   "id": "388d0730",
   "metadata": {},
   "outputs": [],
   "source": [
    "# 2.2 Replacing modes for respective columns\n",
    "\n",
    "for i in bad_columns_dict.keys():\n",
    "    adult_df_filtered = adult_df_filtered.withColumn(i, when((col(i) == '?'), bad_columns_dict[i]) \\\n",
    "                                                    .otherwise(col(i)))"
   ]
  },
  {
   "cell_type": "code",
   "execution_count": 25,
   "id": "d18fce67",
   "metadata": {},
   "outputs": [
    {
     "name": "stdout",
     "output_type": "stream",
     "text": [
      "x : 0\n",
      "age : 0\n",
      "workclass : 0\n",
      "fnlwgt : 0\n",
      "education : 0\n",
      "years_of_education : 0\n",
      "marital-status : 0\n",
      "occupation : 0\n",
      "relationship : 0\n",
      "race : 0\n",
      "gender : 0\n",
      "capital-gain : 0\n",
      "capital-loss : 0\n",
      "hours-per-week : 0\n",
      "native-country : 0\n",
      "income : 0\n",
      "age-squared : 0\n"
     ]
    }
   ],
   "source": [
    "# Checking for junk values in the cleaned dataset\n",
    "adult_df_cleaned = adult_df_filtered\n",
    "for column in adult_df_cleaned.columns:\n",
    "    count = adult_df_cleaned.filter(adult_df_cleaned[column]=='?').count()\n",
    "    print(f\"{column} : {count}\")"
   ]
  },
  {
   "cell_type": "markdown",
   "id": "10d5d5c8",
   "metadata": {},
   "source": [
    "### Now we have two datasets for two use cases:\n",
    "1. adult_df_reduced: Rows with junk data have been removed\n",
    "2. adult_df_cleaned: Rows with junk data have been imputed with mode of respective column\n",
    "\n",
    "### We will create the model pipeline and then run the pipeline to compare performance in both scenarios"
   ]
  },
  {
   "cell_type": "markdown",
   "id": "dd32b3e4",
   "metadata": {},
   "source": [
    "The following steps will be followed for both datasets:\n",
    "1. String Indexing and One Hot Encoding the categorical independent variables\n",
    "2. String indexing the dependent variable\n",
    "3. Combining all input features for assembler\n",
    "4. Assembling all the stages\n",
    "5. Creating the model and pipeline\n",
    "6. Creating the training and testing datasets\n",
    "7. Running the model and evaluating Performance\n",
    "8. Tuning the hyperparameters\n",
    "9. Storing the output in Kafka"
   ]
  },
  {
   "cell_type": "code",
   "execution_count": 26,
   "id": "bf8319e6",
   "metadata": {},
   "outputs": [
    {
     "data": {
      "text/plain": [
       "[StringIndexer_7298558f21c1,\n",
       " OneHotEncoder_5f80fb73de46,\n",
       " StringIndexer_8f960a19af07,\n",
       " OneHotEncoder_25313e2efb4a,\n",
       " StringIndexer_557fedbca5e7,\n",
       " OneHotEncoder_4206b640e4b7,\n",
       " StringIndexer_e735de562ff4,\n",
       " OneHotEncoder_7e17bea1a689,\n",
       " StringIndexer_e87e36ef69b6,\n",
       " OneHotEncoder_762796f5ba73,\n",
       " StringIndexer_5588efd066a0,\n",
       " OneHotEncoder_e4c093f098e6,\n",
       " StringIndexer_1efabe7983be,\n",
       " OneHotEncoder_e04fb7674b49,\n",
       " StringIndexer_495be3f1f701,\n",
       " OneHotEncoder_f098675f6f9d]"
      ]
     },
     "execution_count": 26,
     "metadata": {},
     "output_type": "execute_result"
    }
   ],
   "source": [
    "# 1. String Indexing and encoding the categorical variables\n",
    "\n",
    "categorical_variables = ['workclass', 'education', 'marital-status', 'occupation', 'relationship', 'race', 'gender', 'native-country']\n",
    "\n",
    "stages_list = []\n",
    "\n",
    "for var in categorical_variables:\n",
    "    indexer = StringIndexer(inputCol = var, outputCol = var + \"_indexed\")\n",
    "    encoder = OneHotEncoder(inputCols = [indexer.getOutputCol()], outputCols = [var + \"_encoded\"])\n",
    "    stages_list += [indexer, encoder]\n",
    "stages_list"
   ]
  },
  {
   "cell_type": "code",
   "execution_count": 27,
   "id": "41c17166",
   "metadata": {},
   "outputs": [],
   "source": [
    "# 2. Index the dependent variable income\n",
    "\n",
    "label_indexer = StringIndexer(inputCol = 'income', outputCol = \"label\")\n",
    "stages_list.append(label_indexer)"
   ]
  },
  {
   "cell_type": "code",
   "execution_count": 28,
   "id": "f183188d",
   "metadata": {},
   "outputs": [
    {
     "data": {
      "text/plain": [
       "['age',\n",
       " 'fnlwgt',\n",
       " 'years_of_education',\n",
       " 'capital-gain',\n",
       " 'capital-loss',\n",
       " 'hours-per-week',\n",
       " 'age-squared',\n",
       " 'workclass_encoded',\n",
       " 'education_encoded',\n",
       " 'marital-status_encoded',\n",
       " 'occupation_encoded',\n",
       " 'relationship_encoded',\n",
       " 'race_encoded',\n",
       " 'gender_encoded',\n",
       " 'native-country_encoded']"
      ]
     },
     "execution_count": 28,
     "metadata": {},
     "output_type": "execute_result"
    }
   ],
   "source": [
    "# 3. Adding numerical variables and combining with categorical features\n",
    "\n",
    "numerical_variables  = ['age', 'fnlwgt', 'years_of_education', 'capital-gain', 'capital-loss', 'hours-per-week', 'age-squared']\n",
    "encoded_cat_variables = [var+'_encoded' for var in categorical_variables]\n",
    "\n",
    "assembler_input = numerical_variables + encoded_cat_variables\n",
    "assembler_input"
   ]
  },
  {
   "cell_type": "code",
   "execution_count": 29,
   "id": "0b1b6f97",
   "metadata": {},
   "outputs": [],
   "source": [
    "# 4. Assembling all features using vector assembler\n",
    "assembler = VectorAssembler(inputCols = assembler_input, outputCol = \"features\")\n",
    "stages_list.append(assembler)"
   ]
  },
  {
   "cell_type": "code",
   "execution_count": 30,
   "id": "fdb866a1",
   "metadata": {},
   "outputs": [],
   "source": [
    "# 5. Creating a single function to take the input dataframe and create a model and pipeline based on that\n",
    "\n",
    "def buildModels(data, stages_list):\n",
    "    # building the model and the pipeline\n",
    "    print(\"= > Building the pipeline \\n\")\n",
    "    pipeline = Pipeline(stages = stages_list)\n",
    "    pipelineModel = pipeline.fit(data)\n",
    "    df = pipelineModel.transform(data)\n",
    "    \n",
    "    df_model = df.select(data.columns + ['label', 'features'])\n",
    "    print(\"= > Schema of dataset:\")\n",
    "    df_model.printSchema()\n",
    "    \n",
    "    # splitting the data into train-test set\n",
    "    train, test = df_model.randomSplit([0.8, 0.2], seed=1910)\n",
    "    \n",
    "    # checking the distribution in train and test dataset over income\n",
    "    print(\"= > Training Data distribution:\")\n",
    "    train.groupBy(\"label\").count().show()\n",
    "    print(\"= > Testing Data distribution:\")\n",
    "    test.groupBy(\"label\").count().show()\n",
    "    \n",
    "    # Running a randomforest classifier\n",
    "    print(\"= > Running a random forest classifier on the training dataset\")\n",
    "    rfc = RandomForestClassifier(featuresCol = 'features', labelCol = 'label')\n",
    "    rf_model = rfc.fit(train)\n",
    "    print(\"= > Testing the random forest model on the test dataset\")\n",
    "    predictions_rf = rf_model.transform(test)\n",
    "        \n",
    "    # Running a logistic regression classifier\n",
    "    print(\"= > Running a logistic regression classifier on the training dataset\")\n",
    "    lr = LogisticRegression(featuresCol = 'features', labelCol = 'label')\n",
    "    lr_model = lr.fit(train)\n",
    "    print(\"= > Testing the logistic regression model on the test dataset\")\n",
    "    predictions_lr = lr_model.transform(test)\n",
    "        \n",
    "    # Model performance metrics\n",
    "    # 1. Accuracy\n",
    "    accuracy_rfc = predictions_rf.filter(predictions_rf.label == predictions_rf.prediction) \\\n",
    "                                        .count() / float(predictions_rf.count())\n",
    "    print(f\"\\n----> Accuracy of random forest classifier: {round(accuracy_rfc*100, 3)}%\")\n",
    "    \n",
    "    accuracy_lr = predictions_lr.filter(predictions_lr.label == predictions_lr.prediction) \\\n",
    "                                        .count() / float(predictions_lr.count())\n",
    "    print(f\"----> Accuracy of logistic regression classifier: {round(accuracy_lr*100, 3)}%\")\n",
    "    \n",
    "    # 2. Area under the ROC using the Binary Classification Evaluator\n",
    "    bc_evaluator = BinaryClassificationEvaluator()\n",
    "    auc_rf = bc_evaluator.evaluate(predictions_rf)\n",
    "    auc_lr = bc_evaluator.evaluate(predictions_lr)\n",
    "    print(f\"\\n----> Area under the ROC of random forest classifier : {round(auc_rf*100, 3)}%\")\n",
    "    print(f\"----> Area under the ROC of logistic regression classifier : {round(auc_lr*100, 3)}%\")\n",
    "    \n",
    "    return (rfc, lr, train, test)"
   ]
  },
  {
   "cell_type": "code",
   "execution_count": 31,
   "id": "20afd963",
   "metadata": {},
   "outputs": [
    {
     "name": "stdout",
     "output_type": "stream",
     "text": [
      "-------------- 1. Building the Models on the reduced dataset with less # of rows ------------------\n",
      "Dataset picked: adult_df_reduced\n",
      "= > Building the pipeline \n",
      "\n",
      "= > Schema of dataset:\n",
      "root\n",
      " |-- x: integer (nullable = true)\n",
      " |-- age: integer (nullable = true)\n",
      " |-- workclass: string (nullable = true)\n",
      " |-- fnlwgt: double (nullable = true)\n",
      " |-- education: string (nullable = true)\n",
      " |-- years_of_education: integer (nullable = true)\n",
      " |-- marital-status: string (nullable = true)\n",
      " |-- occupation: string (nullable = true)\n",
      " |-- relationship: string (nullable = true)\n",
      " |-- race: string (nullable = true)\n",
      " |-- gender: string (nullable = true)\n",
      " |-- capital-gain: double (nullable = true)\n",
      " |-- capital-loss: double (nullable = true)\n",
      " |-- hours-per-week: integer (nullable = true)\n",
      " |-- native-country: string (nullable = true)\n",
      " |-- income: string (nullable = true)\n",
      " |-- age-squared: double (nullable = true)\n",
      " |-- label: double (nullable = false)\n",
      " |-- features: vector (nullable = true)\n",
      "\n",
      "= > Training Data distribution:\n",
      "+-----+-----+\n",
      "|label|count|\n",
      "+-----+-----+\n",
      "|  0.0|27224|\n",
      "|  1.0| 9036|\n",
      "+-----+-----+\n",
      "\n",
      "= > Testing Data distribution:\n",
      "+-----+-----+\n",
      "|label|count|\n",
      "+-----+-----+\n",
      "|  0.0| 6789|\n",
      "|  1.0| 2172|\n",
      "+-----+-----+\n",
      "\n",
      "= > Running a random forest classifier on the training dataset\n",
      "= > Testing the random forest model on the test dataset\n",
      "= > Running a logistic regression classifier on the training dataset\n",
      "= > Testing the logistic regression model on the test dataset\n",
      "\n",
      "----> Accuracy of random forest classifier: 83.138%\n",
      "----> Accuracy of logistic regression classifier: 85.415%\n",
      "\n",
      "----> Area under the ROC of random forest classifier : 89.134%\n",
      "----> Area under the ROC of logistic regression classifier : 90.779%\n",
      "\n",
      "----------------------------------------- Completed -----------------------------------------------\n",
      "\n",
      "-------------- 2. Building the Models on the cleaned dataset with junk data imputed with mode values ------------------\n",
      "Dataset picked: adult_df_reduced\n",
      "= > Building the pipeline \n",
      "\n",
      "= > Schema of dataset:\n",
      "root\n",
      " |-- x: integer (nullable = true)\n",
      " |-- age: integer (nullable = true)\n",
      " |-- workclass: string (nullable = true)\n",
      " |-- fnlwgt: double (nullable = true)\n",
      " |-- education: string (nullable = true)\n",
      " |-- years_of_education: integer (nullable = true)\n",
      " |-- marital-status: string (nullable = true)\n",
      " |-- occupation: string (nullable = true)\n",
      " |-- relationship: string (nullable = true)\n",
      " |-- race: string (nullable = true)\n",
      " |-- gender: string (nullable = true)\n",
      " |-- capital-gain: double (nullable = true)\n",
      " |-- capital-loss: double (nullable = true)\n",
      " |-- hours-per-week: integer (nullable = true)\n",
      " |-- native-country: string (nullable = true)\n",
      " |-- income: string (nullable = true)\n",
      " |-- age-squared: double (nullable = true)\n",
      " |-- label: double (nullable = false)\n",
      " |-- features: vector (nullable = true)\n",
      "\n",
      "= > Training Data distribution:\n",
      "+-----+-----+\n",
      "|label|count|\n",
      "+-----+-----+\n",
      "|  0.0|29796|\n",
      "|  1.0| 9336|\n",
      "+-----+-----+\n",
      "\n",
      "= > Testing Data distribution:\n",
      "+-----+-----+\n",
      "|label|count|\n",
      "+-----+-----+\n",
      "|  0.0| 7358|\n",
      "|  1.0| 2351|\n",
      "+-----+-----+\n",
      "\n",
      "= > Running a random forest classifier on the training dataset\n",
      "= > Testing the random forest model on the test dataset\n",
      "= > Running a logistic regression classifier on the training dataset\n",
      "= > Testing the logistic regression model on the test dataset\n",
      "\n",
      "----> Accuracy of random forest classifier: 82.408%\n",
      "----> Accuracy of logistic regression classifier: 85.828%\n",
      "\n",
      "----> Area under the ROC of random forest classifier : 88.964%\n",
      "----> Area under the ROC of logistic regression classifier : 91.116%\n",
      "\n",
      "----------------------------------------- Completed -----------------------------------------------\n"
     ]
    }
   ],
   "source": [
    "# 6. Testing both datasets (reduced one and imputed one to compare performance)\n",
    "\n",
    "print(\"-------------- 1. Building the Models on the reduced dataset with less # of rows ------------------\")\n",
    "print(\"Dataset picked: adult_df_reduced\")\n",
    "reduced_dataset_rfc, reduced_dataset_lr, reduced_train, reduced_test = buildModels(adult_df_reduced, stages_list)\n",
    "print(\"\\n----------------------------------------- Completed -----------------------------------------------\")\n",
    "\n",
    "print(\"\\n-------------- 2. Building the Models on the cleaned dataset with junk data imputed with mode values ------------------\")\n",
    "print(\"Dataset picked: adult_df_reduced\")\n",
    "imputed_dataset_rfc, imputed_dataset_lr, imputed_train, imputed_test = buildModels(adult_df_cleaned, stages_list)\n",
    "print(\"\\n----------------------------------------- Completed -----------------------------------------------\")"
   ]
  },
  {
   "cell_type": "markdown",
   "id": "7a195572",
   "metadata": {},
   "source": [
    "### As we can see from both accuracy and Area under ROC metrics, logistic regression with imputed dataset performs better than the other combinations (Random forest, reduced dataset).\n",
    "#### - Accuracy: 85.828%\n",
    "#### - Area under ROC: 91.117%\n",
    "\n",
    "### So, we will use the Logistic Regression Classifier with the imputed dataset, for further hyperparameter tuning and finalising the model"
   ]
  },
  {
   "cell_type": "code",
   "execution_count": 32,
   "id": "5c965d94",
   "metadata": {},
   "outputs": [
    {
     "data": {
      "text/plain": [
       "['aggregationDepth: suggested depth for treeAggregate (>= 2). (default: 2)',\n",
       " 'elasticNetParam: the ElasticNet mixing parameter, in range [0, 1]. For alpha = 0, the penalty is an L2 penalty. For alpha = 1, it is an L1 penalty. (default: 0.0)',\n",
       " 'family: The name of family which is a description of the label distribution to be used in the model. Supported options: auto, binomial, multinomial (default: auto)',\n",
       " 'featuresCol: features column name. (default: features, current: features)',\n",
       " 'fitIntercept: whether to fit an intercept term. (default: True)',\n",
       " 'labelCol: label column name. (default: label, current: label)',\n",
       " 'lowerBoundsOnCoefficients: The lower bounds on coefficients if fitting under bound constrained optimization. The bound matrix must be compatible with the shape (1, number of features) for binomial regression, or (number of classes, number of features) for multinomial regression. (undefined)',\n",
       " 'lowerBoundsOnIntercepts: The lower bounds on intercepts if fitting under bound constrained optimization. The bounds vector size must beequal with 1 for binomial regression, or the number oflasses for multinomial regression. (undefined)',\n",
       " 'maxIter: max number of iterations (>= 0). (default: 100)',\n",
       " 'predictionCol: prediction column name. (default: prediction)',\n",
       " 'probabilityCol: Column name for predicted class conditional probabilities. Note: Not all models output well-calibrated probability estimates! These probabilities should be treated as confidences, not precise probabilities. (default: probability)',\n",
       " 'rawPredictionCol: raw prediction (a.k.a. confidence) column name. (default: rawPrediction)',\n",
       " 'regParam: regularization parameter (>= 0). (default: 0.0)',\n",
       " 'standardization: whether to standardize the training features before fitting the model. (default: True)',\n",
       " 'threshold: Threshold in binary classification prediction, in range [0, 1]. If threshold and thresholds are both set, they must match.e.g. if threshold is p, then thresholds must be equal to [1-p, p]. (default: 0.5)',\n",
       " \"thresholds: Thresholds in multi-class classification to adjust the probability of predicting each class. Array must have length equal to the number of classes, with values > 0, excepting that at most one value may be 0. The class with largest value p/t is predicted, where p is the original probability of that class and t is the class's threshold. (undefined)\",\n",
       " 'tol: the convergence tolerance for iterative algorithms (>= 0). (default: 1e-06)',\n",
       " 'upperBoundsOnCoefficients: The upper bounds on coefficients if fitting under bound constrained optimization. The bound matrix must be compatible with the shape (1, number of features) for binomial regression, or (number of classes, number of features) for multinomial regression. (undefined)',\n",
       " 'upperBoundsOnIntercepts: The upper bounds on intercepts if fitting under bound constrained optimization. The bound vector size must be equal with 1 for binomial regression, or the number of classes for multinomial regression. (undefined)',\n",
       " 'weightCol: weight column name. If this is not set or empty, we treat all instance weights as 1.0. (undefined)']"
      ]
     },
     "execution_count": 32,
     "metadata": {},
     "output_type": "execute_result"
    }
   ],
   "source": [
    "imputed_dataset_lr.explainParams().split(\"\\n\")"
   ]
  },
  {
   "cell_type": "code",
   "execution_count": 33,
   "id": "25a28dd5",
   "metadata": {},
   "outputs": [
    {
     "name": "stdout",
     "output_type": "stream",
     "text": [
      "Time to train model: 467.645 seconds\n"
     ]
    }
   ],
   "source": [
    "# We will use regularisation parameters for hyper parameter tuning, \n",
    "# and 5 fold cross-validation (20% data will be used for testing)\n",
    "\n",
    "parameter_grid = (ParamGridBuilder()\n",
    "                  .addGrid(imputed_dataset_lr.regParam, [0, 0.01, 0.5])\n",
    "                  .addGrid(imputed_dataset_lr.elasticNetParam, [0.0, 0.5, 1.0])\n",
    "                  .addGrid(imputed_dataset_lr.maxIter, [10, 50, 100])\n",
    "                  .build())\n",
    "\n",
    "bc_evaluator = BinaryClassificationEvaluator()\n",
    "\n",
    "cv = CrossValidator(estimator = imputed_dataset_lr, estimatorParamMaps = parameter_grid, \\\n",
    "                    evaluator = bc_evaluator, numFolds = 5)\n",
    "\n",
    "start_time = time()\n",
    "tuned_lr = cv.fit(imputed_train)\n",
    "end_time = time()\n",
    "time_taken = end_time - start_time\n",
    "print(\"Time to train model: %.3f seconds\" % time_taken)"
   ]
  },
  {
   "cell_type": "code",
   "execution_count": 34,
   "id": "a12d9759",
   "metadata": {},
   "outputs": [
    {
     "name": "stdout",
     "output_type": "stream",
     "text": [
      "----> Accuracy of tuned logistic regression classifier: 85.828%\n",
      "----> Area under the ROC of tuned logistic regression classifier : 91.117%\n"
     ]
    }
   ],
   "source": [
    "# Testing the performance of tuned model\n",
    "tuned_predictions = tuned_lr.transform(imputed_test)\n",
    "accuracy = tuned_predictions.filter(tuned_predictions.label == tuned_predictions.prediction) \\\n",
    "                                        .count() / float(tuned_predictions.count())\n",
    "print(f\"----> Accuracy of tuned logistic regression classifier: {round(accuracy*100, 3)}%\")\n",
    "\n",
    "auc = bc_evaluator.evaluate(tuned_predictions)\n",
    "print(f\"----> Area under the ROC of tuned logistic regression classifier : {round(auc*100, 3)}%\")"
   ]
  },
  {
   "cell_type": "code",
   "execution_count": 35,
   "id": "590b9311",
   "metadata": {},
   "outputs": [
    {
     "data": {
      "text/plain": [
       "['aggregationDepth: suggested depth for treeAggregate (>= 2). (default: 2)',\n",
       " 'elasticNetParam: the ElasticNet mixing parameter, in range [0, 1]. For alpha = 0, the penalty is an L2 penalty. For alpha = 1, it is an L1 penalty. (default: 0.0, current: 0.0)',\n",
       " 'family: The name of family which is a description of the label distribution to be used in the model. Supported options: auto, binomial, multinomial (default: auto)',\n",
       " 'featuresCol: features column name. (default: features, current: features)',\n",
       " 'fitIntercept: whether to fit an intercept term. (default: True)',\n",
       " 'labelCol: label column name. (default: label, current: label)',\n",
       " 'lowerBoundsOnCoefficients: The lower bounds on coefficients if fitting under bound constrained optimization. The bound matrix must be compatible with the shape (1, number of features) for binomial regression, or (number of classes, number of features) for multinomial regression. (undefined)',\n",
       " 'lowerBoundsOnIntercepts: The lower bounds on intercepts if fitting under bound constrained optimization. The bounds vector size must beequal with 1 for binomial regression, or the number oflasses for multinomial regression. (undefined)',\n",
       " 'maxIter: max number of iterations (>= 0). (default: 100, current: 100)',\n",
       " 'predictionCol: prediction column name. (default: prediction)',\n",
       " 'probabilityCol: Column name for predicted class conditional probabilities. Note: Not all models output well-calibrated probability estimates! These probabilities should be treated as confidences, not precise probabilities. (default: probability)',\n",
       " 'rawPredictionCol: raw prediction (a.k.a. confidence) column name. (default: rawPrediction)',\n",
       " 'regParam: regularization parameter (>= 0). (default: 0.0, current: 0.0)',\n",
       " 'standardization: whether to standardize the training features before fitting the model. (default: True)',\n",
       " 'threshold: Threshold in binary classification prediction, in range [0, 1]. If threshold and thresholds are both set, they must match.e.g. if threshold is p, then thresholds must be equal to [1-p, p]. (default: 0.5)',\n",
       " \"thresholds: Thresholds in multi-class classification to adjust the probability of predicting each class. Array must have length equal to the number of classes, with values > 0, excepting that at most one value may be 0. The class with largest value p/t is predicted, where p is the original probability of that class and t is the class's threshold. (undefined)\",\n",
       " 'tol: the convergence tolerance for iterative algorithms (>= 0). (default: 1e-06)',\n",
       " 'upperBoundsOnCoefficients: The upper bounds on coefficients if fitting under bound constrained optimization. The bound matrix must be compatible with the shape (1, number of features) for binomial regression, or (number of classes, number of features) for multinomial regression. (undefined)',\n",
       " 'upperBoundsOnIntercepts: The upper bounds on intercepts if fitting under bound constrained optimization. The bound vector size must be equal with 1 for binomial regression, or the number of classes for multinomial regression. (undefined)',\n",
       " 'weightCol: weight column name. If this is not set or empty, we treat all instance weights as 1.0. (undefined)']"
      ]
     },
     "execution_count": 35,
     "metadata": {},
     "output_type": "execute_result"
    }
   ],
   "source": [
    "best_model = tuned_lr.bestModel\n",
    "best_model.explainParams().split(\"\\n\")"
   ]
  },
  {
   "cell_type": "code",
   "execution_count": 36,
   "id": "f8f5253b",
   "metadata": {},
   "outputs": [
    {
     "name": "stdout",
     "output_type": "stream",
     "text": [
      "Best Parameter for regParam:  0.0\n",
      "Best Parameter for Elastic Net Param:  0.0\n",
      "Best Parameter for Max iter:  100\n"
     ]
    }
   ],
   "source": [
    "print(\"Best Parameter for regParam: \", best_model._java_obj.getRegParam())\n",
    "print(\"Best Parameter for Elastic Net Param: \", best_model._java_obj.getElasticNetParam())\n",
    "print(\"Best Parameter for Max iter: \", best_model._java_obj.getMaxIter())"
   ]
  },
  {
   "cell_type": "markdown",
   "id": "fc941f3a",
   "metadata": {},
   "source": [
    "### Now we have finalised our model and we can persist it in HDFS for future use"
   ]
  },
  {
   "cell_type": "code",
   "execution_count": 41,
   "id": "ca29c03b",
   "metadata": {},
   "outputs": [],
   "source": [
    "best_model.write().overwrite().save(\"AdultIncomePrediction/LogisticRegression.model\")"
   ]
  }
 ],
 "metadata": {
  "kernelspec": {
   "display_name": "Pyspark 3",
   "language": "python",
   "name": "pyspark3"
  },
  "language_info": {
   "codemirror_mode": {
    "name": "ipython",
    "version": 3
   },
   "file_extension": ".py",
   "mimetype": "text/x-python",
   "name": "python",
   "nbconvert_exporter": "python",
   "pygments_lexer": "ipython3",
   "version": "3.6.12"
  }
 },
 "nbformat": 4,
 "nbformat_minor": 5
}
